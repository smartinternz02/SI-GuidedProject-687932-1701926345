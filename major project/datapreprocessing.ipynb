{
 "cells": [
  {
   "cell_type": "code",
   "execution_count": 1,
   "metadata": {},
   "outputs": [
    {
     "name": "stdout",
     "output_type": "stream",
     "text": [
      "Requirement already satisfied: numpy in c:\\users\\rasag\\appdata\\local\\programs\\python\\python312\\lib\\site-packages (1.26.3)\n",
      "Note: you may need to restart the kernel to use updated packages.\n"
     ]
    },
    {
     "name": "stderr",
     "output_type": "stream",
     "text": [
      "\n",
      "[notice] A new release of pip is available: 23.2.1 -> 24.0\n",
      "[notice] To update, run: python.exe -m pip install --upgrade pip\n"
     ]
    }
   ],
   "source": [
    "pip install numpy\n"
   ]
  },
  {
   "cell_type": "code",
   "execution_count": 2,
   "metadata": {},
   "outputs": [
    {
     "name": "stdout",
     "output_type": "stream",
     "text": [
      "Requirement already satisfied: pandas in c:\\users\\rasag\\appdata\\local\\programs\\python\\python312\\lib\\site-packages (2.1.4)Note: you may need to restart the kernel to use updated packages.\n"
     ]
    },
    {
     "name": "stderr",
     "output_type": "stream",
     "text": [
      "\n",
      "[notice] A new release of pip is available: 23.2.1 -> 24.0\n",
      "[notice] To update, run: python.exe -m pip install --upgrade pip\n"
     ]
    },
    {
     "name": "stdout",
     "output_type": "stream",
     "text": [
      "\n",
      "Requirement already satisfied: numpy<2,>=1.26.0 in c:\\users\\rasag\\appdata\\local\\programs\\python\\python312\\lib\\site-packages (from pandas) (1.26.3)\n",
      "Requirement already satisfied: python-dateutil>=2.8.2 in c:\\users\\rasag\\appdata\\roaming\\python\\python312\\site-packages (from pandas) (2.8.2)\n",
      "Requirement already satisfied: pytz>=2020.1 in c:\\users\\rasag\\appdata\\local\\programs\\python\\python312\\lib\\site-packages (from pandas) (2023.3.post1)\n",
      "Requirement already satisfied: tzdata>=2022.1 in c:\\users\\rasag\\appdata\\local\\programs\\python\\python312\\lib\\site-packages (from pandas) (2023.4)\n",
      "Requirement already satisfied: six>=1.5 in c:\\users\\rasag\\appdata\\roaming\\python\\python312\\site-packages (from python-dateutil>=2.8.2->pandas) (1.16.0)\n"
     ]
    }
   ],
   "source": [
    "pip install pandas"
   ]
  },
  {
   "cell_type": "code",
   "execution_count": 3,
   "metadata": {},
   "outputs": [
    {
     "name": "stdout",
     "output_type": "stream",
     "text": [
      "Requirement already satisfied: matplotlib in c:\\users\\rasag\\appdata\\local\\programs\\python\\python312\\lib\\site-packages (3.8.2)\n",
      "Requirement already satisfied: contourpy>=1.0.1 in c:\\users\\rasag\\appdata\\local\\programs\\python\\python312\\lib\\site-packages (from matplotlib) (1.2.0)\n",
      "Requirement already satisfied: cycler>=0.10 in c:\\users\\rasag\\appdata\\local\\programs\\python\\python312\\lib\\site-packages (from matplotlib) (0.12.1)\n",
      "Requirement already satisfied: fonttools>=4.22.0 in c:\\users\\rasag\\appdata\\local\\programs\\python\\python312\\lib\\site-packages (from matplotlib) (4.47.0)\n",
      "Requirement already satisfied: kiwisolver>=1.3.1 in c:\\users\\rasag\\appdata\\local\\programs\\python\\python312\\lib\\site-packages (from matplotlib) (1.4.5)\n",
      "Requirement already satisfied: numpy<2,>=1.21 in c:\\users\\rasag\\appdata\\local\\programs\\python\\python312\\lib\\site-packages (from matplotlib) (1.26.3)\n",
      "Requirement already satisfied: packaging>=20.0 in c:\\users\\rasag\\appdata\\roaming\\python\\python312\\site-packages (from matplotlib) (23.2)\n",
      "Requirement already satisfied: pillow>=8 in c:\\users\\rasag\\appdata\\local\\programs\\python\\python312\\lib\\site-packages (from matplotlib) (10.2.0)\n",
      "Requirement already satisfied: pyparsing>=2.3.1 in c:\\users\\rasag\\appdata\\local\\programs\\python\\python312\\lib\\site-packages (from matplotlib) (3.1.1)\n",
      "Requirement already satisfied: python-dateutil>=2.7 in c:\\users\\rasag\\appdata\\roaming\\python\\python312\\site-packages (from matplotlib) (2.8.2)\n",
      "Requirement already satisfied: six>=1.5 in c:\\users\\rasag\\appdata\\roaming\\python\\python312\\site-packages (from python-dateutil>=2.7->matplotlib) (1.16.0)\n",
      "Note: you may need to restart the kernel to use updated packages.\n"
     ]
    },
    {
     "name": "stderr",
     "output_type": "stream",
     "text": [
      "\n",
      "[notice] A new release of pip is available: 23.2.1 -> 24.0\n",
      "[notice] To update, run: python.exe -m pip install --upgrade pip\n"
     ]
    }
   ],
   "source": [
    "pip install matplotlib"
   ]
  },
  {
   "cell_type": "code",
   "execution_count": 4,
   "metadata": {},
   "outputs": [
    {
     "name": "stdout",
     "output_type": "stream",
     "text": [
      "Requirement already satisfied: seaborn in c:\\users\\rasag\\appdata\\local\\programs\\python\\python312\\lib\\site-packages (0.13.1)\n",
      "Requirement already satisfied: numpy!=1.24.0,>=1.20 in c:\\users\\rasag\\appdata\\local\\programs\\python\\python312\\lib\\site-packages (from seaborn) (1.26.3)\n",
      "Requirement already satisfied: pandas>=1.2 in c:\\users\\rasag\\appdata\\local\\programs\\python\\python312\\lib\\site-packages (from seaborn) (2.1.4)\n",
      "Requirement already satisfied: matplotlib!=3.6.1,>=3.4 in c:\\users\\rasag\\appdata\\local\\programs\\python\\python312\\lib\\site-packages (from seaborn) (3.8.2)\n",
      "Requirement already satisfied: contourpy>=1.0.1 in c:\\users\\rasag\\appdata\\local\\programs\\python\\python312\\lib\\site-packages (from matplotlib!=3.6.1,>=3.4->seaborn) (1.2.0)\n",
      "Requirement already satisfied: cycler>=0.10 in c:\\users\\rasag\\appdata\\local\\programs\\python\\python312\\lib\\site-packages (from matplotlib!=3.6.1,>=3.4->seaborn) (0.12.1)\n",
      "Requirement already satisfied: fonttools>=4.22.0 in c:\\users\\rasag\\appdata\\local\\programs\\python\\python312\\lib\\site-packages (from matplotlib!=3.6.1,>=3.4->seaborn) (4.47.0)\n",
      "Requirement already satisfied: kiwisolver>=1.3.1 in c:\\users\\rasag\\appdata\\local\\programs\\python\\python312\\lib\\site-packages (from matplotlib!=3.6.1,>=3.4->seaborn) (1.4.5)\n",
      "Requirement already satisfied: packaging>=20.0 in c:\\users\\rasag\\appdata\\roaming\\python\\python312\\site-packages (from matplotlib!=3.6.1,>=3.4->seaborn) (23.2)\n",
      "Requirement already satisfied: pillow>=8 in c:\\users\\rasag\\appdata\\local\\programs\\python\\python312\\lib\\site-packages (from matplotlib!=3.6.1,>=3.4->seaborn) (10.2.0)\n",
      "Requirement already satisfied: pyparsing>=2.3.1 in c:\\users\\rasag\\appdata\\local\\programs\\python\\python312\\lib\\site-packages (from matplotlib!=3.6.1,>=3.4->seaborn) (3.1.1)\n",
      "Requirement already satisfied: python-dateutil>=2.7 in c:\\users\\rasag\\appdata\\roaming\\python\\python312\\site-packages (from matplotlib!=3.6.1,>=3.4->seaborn) (2.8.2)\n",
      "Requirement already satisfied: pytz>=2020.1 in c:\\users\\rasag\\appdata\\local\\programs\\python\\python312\\lib\\site-packages (from pandas>=1.2->seaborn) (2023.3.post1)\n",
      "Requirement already satisfied: tzdata>=2022.1 in c:\\users\\rasag\\appdata\\local\\programs\\python\\python312\\lib\\site-packages (from pandas>=1.2->seaborn) (2023.4)\n",
      "Requirement already satisfied: six>=1.5 in c:\\users\\rasag\\appdata\\roaming\\python\\python312\\site-packages (from python-dateutil>=2.7->matplotlib!=3.6.1,>=3.4->seaborn) (1.16.0)\n",
      "Note: you may need to restart the kernel to use updated packages.\n"
     ]
    },
    {
     "name": "stderr",
     "output_type": "stream",
     "text": [
      "\n",
      "[notice] A new release of pip is available: 23.2.1 -> 24.0\n",
      "[notice] To update, run: python.exe -m pip install --upgrade pip\n"
     ]
    }
   ],
   "source": [
    "pip install seaborn"
   ]
  },
  {
   "cell_type": "code",
   "execution_count": 5,
   "metadata": {},
   "outputs": [],
   "source": [
    "import numpy as np"
   ]
  },
  {
   "cell_type": "code",
   "execution_count": 6,
   "metadata": {},
   "outputs": [],
   "source": [
    "import pandas as pd \n",
    "import matplotlib.pyplot as plt \n",
    "%matplotlib inline"
   ]
  },
  {
   "cell_type": "code",
   "execution_count": 7,
   "metadata": {},
   "outputs": [],
   "source": [
    "import seaborn as sns"
   ]
  },
  {
   "cell_type": "code",
   "execution_count": 8,
   "metadata": {},
   "outputs": [],
   "source": [
    "import warnings \n",
    "warnings.filterwarnings('ignore')"
   ]
  },
  {
   "cell_type": "code",
   "execution_count": 68,
   "metadata": {},
   "outputs": [
    {
     "data": {
      "text/html": [
       "<div>\n",
       "<style scoped>\n",
       "    .dataframe tbody tr th:only-of-type {\n",
       "        vertical-align: middle;\n",
       "    }\n",
       "\n",
       "    .dataframe tbody tr th {\n",
       "        vertical-align: top;\n",
       "    }\n",
       "\n",
       "    .dataframe thead th {\n",
       "        text-align: right;\n",
       "    }\n",
       "</style>\n",
       "<table border=\"1\" class=\"dataframe\">\n",
       "  <thead>\n",
       "    <tr style=\"text-align: right;\">\n",
       "      <th></th>\n",
       "      <th>infoavail</th>\n",
       "      <th>housecost</th>\n",
       "      <th>schoolquality</th>\n",
       "      <th>policetrust</th>\n",
       "      <th>streetquality</th>\n",
       "      <th>ëvents</th>\n",
       "      <th>happy</th>\n",
       "    </tr>\n",
       "  </thead>\n",
       "  <tbody>\n",
       "    <tr>\n",
       "      <th>0</th>\n",
       "      <td>3</td>\n",
       "      <td>3</td>\n",
       "      <td>3</td>\n",
       "      <td>4</td>\n",
       "      <td>2</td>\n",
       "      <td>4</td>\n",
       "      <td>0</td>\n",
       "    </tr>\n",
       "    <tr>\n",
       "      <th>1</th>\n",
       "      <td>3</td>\n",
       "      <td>2</td>\n",
       "      <td>3</td>\n",
       "      <td>5</td>\n",
       "      <td>4</td>\n",
       "      <td>3</td>\n",
       "      <td>0</td>\n",
       "    </tr>\n",
       "    <tr>\n",
       "      <th>2</th>\n",
       "      <td>5</td>\n",
       "      <td>3</td>\n",
       "      <td>3</td>\n",
       "      <td>3</td>\n",
       "      <td>3</td>\n",
       "      <td>5</td>\n",
       "      <td>1</td>\n",
       "    </tr>\n",
       "    <tr>\n",
       "      <th>3</th>\n",
       "      <td>5</td>\n",
       "      <td>4</td>\n",
       "      <td>3</td>\n",
       "      <td>3</td>\n",
       "      <td>3</td>\n",
       "      <td>5</td>\n",
       "      <td>0</td>\n",
       "    </tr>\n",
       "    <tr>\n",
       "      <th>4</th>\n",
       "      <td>5</td>\n",
       "      <td>4</td>\n",
       "      <td>3</td>\n",
       "      <td>3</td>\n",
       "      <td>3</td>\n",
       "      <td>5</td>\n",
       "      <td>0</td>\n",
       "    </tr>\n",
       "  </tbody>\n",
       "</table>\n",
       "</div>"
      ],
      "text/plain": [
       "   infoavail  housecost  schoolquality  policetrust  streetquality  ëvents  \\\n",
       "0          3          3              3            4              2       4   \n",
       "1          3          2              3            5              4       3   \n",
       "2          5          3              3            3              3       5   \n",
       "3          5          4              3            3              3       5   \n",
       "4          5          4              3            3              3       5   \n",
       "\n",
       "   happy  \n",
       "0      0  \n",
       "1      0  \n",
       "2      1  \n",
       "3      0  \n",
       "4      0  "
      ]
     },
     "execution_count": 68,
     "metadata": {},
     "output_type": "execute_result"
    }
   ],
   "source": [
    "df=pd.read_csv(\"C:/Users/rasag/Downloads/happydata.csv\")\n",
    "df.head()"
   ]
  },
  {
   "cell_type": "code",
   "execution_count": 69,
   "metadata": {},
   "outputs": [
    {
     "data": {
      "text/plain": [
       "infoavail        False\n",
       "housecost        False\n",
       "schoolquality    False\n",
       "policetrust      False\n",
       "streetquality    False\n",
       "ëvents           False\n",
       "happy            False\n",
       "dtype: bool"
      ]
     },
     "execution_count": 69,
     "metadata": {},
     "output_type": "execute_result"
    }
   ],
   "source": [
    "df.isnull().any()"
   ]
  },
  {
   "cell_type": "code",
   "execution_count": 70,
   "metadata": {},
   "outputs": [
    {
     "data": {
      "text/plain": [
       "infoavail        0\n",
       "housecost        0\n",
       "schoolquality    0\n",
       "policetrust      0\n",
       "streetquality    0\n",
       "ëvents           0\n",
       "happy            0\n",
       "dtype: int64"
      ]
     },
     "execution_count": 70,
     "metadata": {},
     "output_type": "execute_result"
    }
   ],
   "source": [
    "df.isnull().sum()"
   ]
  },
  {
   "cell_type": "code",
   "execution_count": 124,
   "metadata": {},
   "outputs": [
    {
     "name": "stdout",
     "output_type": "stream",
     "text": [
      "Index(['infoavail', 'housecost', 'schoolquality', 'policetrust',\n",
      "       'streetquality', 'events', 'happy'],\n",
      "      dtype='object')\n"
     ]
    }
   ],
   "source": [
    "df.duplicated().sum()\n",
    "data = df.copy()\n",
    "print(df.columns)"
   ]
  },
  {
   "cell_type": "code",
   "execution_count": 72,
   "metadata": {},
   "outputs": [
    {
     "data": {
      "text/html": [
       "<div>\n",
       "<style scoped>\n",
       "    .dataframe tbody tr th:only-of-type {\n",
       "        vertical-align: middle;\n",
       "    }\n",
       "\n",
       "    .dataframe tbody tr th {\n",
       "        vertical-align: top;\n",
       "    }\n",
       "\n",
       "    .dataframe thead th {\n",
       "        text-align: right;\n",
       "    }\n",
       "</style>\n",
       "<table border=\"1\" class=\"dataframe\">\n",
       "  <thead>\n",
       "    <tr style=\"text-align: right;\">\n",
       "      <th></th>\n",
       "      <th>infoavail</th>\n",
       "      <th>housecost</th>\n",
       "      <th>schoolquality</th>\n",
       "      <th>policetrust</th>\n",
       "      <th>streetquality</th>\n",
       "      <th>events</th>\n",
       "      <th>happy</th>\n",
       "    </tr>\n",
       "  </thead>\n",
       "  <tbody>\n",
       "    <tr>\n",
       "      <th>0</th>\n",
       "      <td>3</td>\n",
       "      <td>3</td>\n",
       "      <td>3</td>\n",
       "      <td>4</td>\n",
       "      <td>2</td>\n",
       "      <td>4</td>\n",
       "      <td>0</td>\n",
       "    </tr>\n",
       "    <tr>\n",
       "      <th>1</th>\n",
       "      <td>3</td>\n",
       "      <td>2</td>\n",
       "      <td>3</td>\n",
       "      <td>5</td>\n",
       "      <td>4</td>\n",
       "      <td>3</td>\n",
       "      <td>0</td>\n",
       "    </tr>\n",
       "    <tr>\n",
       "      <th>2</th>\n",
       "      <td>5</td>\n",
       "      <td>3</td>\n",
       "      <td>3</td>\n",
       "      <td>3</td>\n",
       "      <td>3</td>\n",
       "      <td>5</td>\n",
       "      <td>1</td>\n",
       "    </tr>\n",
       "    <tr>\n",
       "      <th>3</th>\n",
       "      <td>5</td>\n",
       "      <td>4</td>\n",
       "      <td>3</td>\n",
       "      <td>3</td>\n",
       "      <td>3</td>\n",
       "      <td>5</td>\n",
       "      <td>0</td>\n",
       "    </tr>\n",
       "    <tr>\n",
       "      <th>5</th>\n",
       "      <td>5</td>\n",
       "      <td>5</td>\n",
       "      <td>3</td>\n",
       "      <td>5</td>\n",
       "      <td>5</td>\n",
       "      <td>5</td>\n",
       "      <td>1</td>\n",
       "    </tr>\n",
       "    <tr>\n",
       "      <th>...</th>\n",
       "      <td>...</td>\n",
       "      <td>...</td>\n",
       "      <td>...</td>\n",
       "      <td>...</td>\n",
       "      <td>...</td>\n",
       "      <td>...</td>\n",
       "      <td>...</td>\n",
       "    </tr>\n",
       "    <tr>\n",
       "      <th>137</th>\n",
       "      <td>5</td>\n",
       "      <td>2</td>\n",
       "      <td>3</td>\n",
       "      <td>4</td>\n",
       "      <td>4</td>\n",
       "      <td>3</td>\n",
       "      <td>1</td>\n",
       "    </tr>\n",
       "    <tr>\n",
       "      <th>138</th>\n",
       "      <td>5</td>\n",
       "      <td>3</td>\n",
       "      <td>3</td>\n",
       "      <td>1</td>\n",
       "      <td>3</td>\n",
       "      <td>5</td>\n",
       "      <td>0</td>\n",
       "    </tr>\n",
       "    <tr>\n",
       "      <th>139</th>\n",
       "      <td>5</td>\n",
       "      <td>2</td>\n",
       "      <td>3</td>\n",
       "      <td>4</td>\n",
       "      <td>2</td>\n",
       "      <td>5</td>\n",
       "      <td>1</td>\n",
       "    </tr>\n",
       "    <tr>\n",
       "      <th>141</th>\n",
       "      <td>4</td>\n",
       "      <td>3</td>\n",
       "      <td>3</td>\n",
       "      <td>4</td>\n",
       "      <td>4</td>\n",
       "      <td>5</td>\n",
       "      <td>0</td>\n",
       "    </tr>\n",
       "    <tr>\n",
       "      <th>142</th>\n",
       "      <td>5</td>\n",
       "      <td>3</td>\n",
       "      <td>2</td>\n",
       "      <td>5</td>\n",
       "      <td>5</td>\n",
       "      <td>5</td>\n",
       "      <td>0</td>\n",
       "    </tr>\n",
       "  </tbody>\n",
       "</table>\n",
       "<p>125 rows × 7 columns</p>\n",
       "</div>"
      ],
      "text/plain": [
       "     infoavail  housecost  schoolquality  policetrust  streetquality  events  \\\n",
       "0            3          3              3            4              2       4   \n",
       "1            3          2              3            5              4       3   \n",
       "2            5          3              3            3              3       5   \n",
       "3            5          4              3            3              3       5   \n",
       "5            5          5              3            5              5       5   \n",
       "..         ...        ...            ...          ...            ...     ...   \n",
       "137          5          2              3            4              4       3   \n",
       "138          5          3              3            1              3       5   \n",
       "139          5          2              3            4              2       5   \n",
       "141          4          3              3            4              4       5   \n",
       "142          5          3              2            5              5       5   \n",
       "\n",
       "     happy  \n",
       "0        0  \n",
       "1        0  \n",
       "2        1  \n",
       "3        0  \n",
       "5        1  \n",
       "..     ...  \n",
       "137      1  \n",
       "138      0  \n",
       "139      1  \n",
       "141      0  \n",
       "142      0  \n",
       "\n",
       "[125 rows x 7 columns]"
      ]
     },
     "execution_count": 72,
     "metadata": {},
     "output_type": "execute_result"
    }
   ],
   "source": [
    "df.drop_duplicates()"
   ]
  },
  {
   "cell_type": "code",
   "execution_count": 73,
   "metadata": {},
   "outputs": [
    {
     "data": {
      "image/png": "[encoded data removed]",
      "text/plain": [
       "<Figure size 1000x1000 with 8 Axes>"
      ]
     },
     "metadata": {},
     "output_type": "display_data"
    }
   ],
   "source": [
    "# Creating subplots\n",
    "fig, axes = plt.subplots(nrows=2, ncols=4, figsize=(10, 10))\n",
    "# Flatten the axes array to iterate over subplots\n",
    "axes = axes.flatten()\n",
    "\n",
    "categorical_cols = df.columns[df.dtypes == object]\n",
    "numberic_cols = [x for x in df.columns if x not in categorical_cols]\n",
    "# Plot boxplots for each column\n",
    "for i, column in enumerate(numberic_cols):\n",
    "    axes[i].boxplot(df[column])\n",
    "    axes[i].set_title(column)\n",
    "\n",
    "# Hide any unused subplots\n",
    "for j in range(len(numberic_cols), len(axes)):\n",
    "    axes[j].axis('off')\n",
    "\n",
    "# Adjust spacing between subplots\n",
    "plt.tight_layout()\n",
    "\n",
    "# Show the plots\n",
    "plt.show()"
   ]
  },
  {
   "cell_type": "code",
   "execution_count": 15,
   "metadata": {},
   "outputs": [
    {
     "data": {
      "text/plain": [
       "[1.0]"
      ]
     },
     "execution_count": 15,
     "metadata": {},
     "output_type": "execute_result"
    }
   ],
   "source": [
    "IQR = []\n",
    "IQR.append(df[\"infoavail\"].quantile(0.75) - df[\"infoavail\"].quantile(0.25))\n",
    "IQR\n"
   ]
  },
  {
   "cell_type": "code",
   "execution_count": 16,
   "metadata": {},
   "outputs": [
    {
     "data": {
      "text/plain": [
       "[1.0, 6.5]"
      ]
     },
     "execution_count": 16,
     "metadata": {},
     "output_type": "execute_result"
    }
   ],
   "source": [
    "IQR.append(df[\"infoavail\"].quantile(0.75)+1.5*IQR[0])\n",
    "IQR"
   ]
  },
  {
   "cell_type": "code",
   "execution_count": 17,
   "metadata": {},
   "outputs": [
    {
     "data": {
      "text/plain": [
       "[1.0, 6.5, 2.5]"
      ]
     },
     "execution_count": 17,
     "metadata": {},
     "output_type": "execute_result"
    }
   ],
   "source": [
    "IQR.append(df[\"infoavail\"].quantile(0.25)-1.5*IQR[0])\n",
    "IQR"
   ]
  },
  {
   "cell_type": "code",
   "execution_count": 18,
   "metadata": {},
   "outputs": [],
   "source": [
    "df[\"infoavail\"]=np.where(df[\"infoavail\"]>6.5,6.5,np.where(df[\"infoavail\"]<2.5,2.5, df[\"infoavail\"]))"
   ]
  },
  {
   "cell_type": "code",
   "execution_count": 19,
   "metadata": {},
   "outputs": [
    {
     "data": {
      "text/plain": [
       "[1.0]"
      ]
     },
     "execution_count": 19,
     "metadata": {},
     "output_type": "execute_result"
    }
   ],
   "source": [
    "IQR=[]\n",
    "IQR.append(df[\"housecost\"].quantile(0.75)-df[\"housecost\"].quantile(0.25))\n",
    "IQR"
   ]
  },
  {
   "cell_type": "code",
   "execution_count": 20,
   "metadata": {},
   "outputs": [
    {
     "data": {
      "text/plain": [
       "[1.0, 4.5]"
      ]
     },
     "execution_count": 20,
     "metadata": {},
     "output_type": "execute_result"
    }
   ],
   "source": [
    "upper=[]\n",
    "IQR.append(df[\"housecost\"].quantile(0.75)+1.5*IQR[0])\n",
    "IQR"
   ]
  },
  {
   "cell_type": "code",
   "execution_count": 21,
   "metadata": {},
   "outputs": [
    {
     "data": {
      "text/plain": [
       "[1.0, 4.5, 0.5]"
      ]
     },
     "execution_count": 21,
     "metadata": {},
     "output_type": "execute_result"
    }
   ],
   "source": [
    "lower=[]\n",
    "IQR.append(df[\"housecost\"].quantile(0.25)-1.5*IQR[0])\n",
    "IQR"
   ]
  },
  {
   "cell_type": "code",
   "execution_count": 74,
   "metadata": {},
   "outputs": [
    {
     "data": {
      "text/html": [
       "<div>\n",
       "<style scoped>\n",
       "    .dataframe tbody tr th:only-of-type {\n",
       "        vertical-align: middle;\n",
       "    }\n",
       "\n",
       "    .dataframe tbody tr th {\n",
       "        vertical-align: top;\n",
       "    }\n",
       "\n",
       "    .dataframe thead th {\n",
       "        text-align: right;\n",
       "    }\n",
       "</style>\n",
       "<table border=\"1\" class=\"dataframe\">\n",
       "  <thead>\n",
       "    <tr style=\"text-align: right;\">\n",
       "      <th></th>\n",
       "      <th>infoavail</th>\n",
       "      <th>housecost</th>\n",
       "      <th>schoolquality</th>\n",
       "      <th>policetrust</th>\n",
       "      <th>streetquality</th>\n",
       "      <th>events</th>\n",
       "      <th>happy</th>\n",
       "    </tr>\n",
       "  </thead>\n",
       "  <tbody>\n",
       "    <tr>\n",
       "      <th>count</th>\n",
       "      <td>143.000000</td>\n",
       "      <td>143.000000</td>\n",
       "      <td>143.000000</td>\n",
       "      <td>143.000000</td>\n",
       "      <td>143.000000</td>\n",
       "      <td>143.000000</td>\n",
       "      <td>143.000000</td>\n",
       "    </tr>\n",
       "    <tr>\n",
       "      <th>mean</th>\n",
       "      <td>4.314685</td>\n",
       "      <td>2.538462</td>\n",
       "      <td>3.265734</td>\n",
       "      <td>3.699301</td>\n",
       "      <td>3.615385</td>\n",
       "      <td>4.216783</td>\n",
       "      <td>0.538462</td>\n",
       "    </tr>\n",
       "    <tr>\n",
       "      <th>std</th>\n",
       "      <td>0.799820</td>\n",
       "      <td>1.118155</td>\n",
       "      <td>0.992586</td>\n",
       "      <td>0.888383</td>\n",
       "      <td>1.131639</td>\n",
       "      <td>0.848693</td>\n",
       "      <td>0.500271</td>\n",
       "    </tr>\n",
       "    <tr>\n",
       "      <th>min</th>\n",
       "      <td>1.000000</td>\n",
       "      <td>1.000000</td>\n",
       "      <td>1.000000</td>\n",
       "      <td>1.000000</td>\n",
       "      <td>1.000000</td>\n",
       "      <td>1.000000</td>\n",
       "      <td>0.000000</td>\n",
       "    </tr>\n",
       "    <tr>\n",
       "      <th>25%</th>\n",
       "      <td>4.000000</td>\n",
       "      <td>2.000000</td>\n",
       "      <td>3.000000</td>\n",
       "      <td>3.000000</td>\n",
       "      <td>3.000000</td>\n",
       "      <td>4.000000</td>\n",
       "      <td>0.000000</td>\n",
       "    </tr>\n",
       "    <tr>\n",
       "      <th>50%</th>\n",
       "      <td>5.000000</td>\n",
       "      <td>3.000000</td>\n",
       "      <td>3.000000</td>\n",
       "      <td>4.000000</td>\n",
       "      <td>4.000000</td>\n",
       "      <td>4.000000</td>\n",
       "      <td>1.000000</td>\n",
       "    </tr>\n",
       "    <tr>\n",
       "      <th>75%</th>\n",
       "      <td>5.000000</td>\n",
       "      <td>3.000000</td>\n",
       "      <td>4.000000</td>\n",
       "      <td>4.000000</td>\n",
       "      <td>4.000000</td>\n",
       "      <td>5.000000</td>\n",
       "      <td>1.000000</td>\n",
       "    </tr>\n",
       "    <tr>\n",
       "      <th>max</th>\n",
       "      <td>5.000000</td>\n",
       "      <td>5.000000</td>\n",
       "      <td>5.000000</td>\n",
       "      <td>5.000000</td>\n",
       "      <td>5.000000</td>\n",
       "      <td>5.000000</td>\n",
       "      <td>1.000000</td>\n",
       "    </tr>\n",
       "  </tbody>\n",
       "</table>\n",
       "</div>"
      ],
      "text/plain": [
       "        infoavail   housecost  schoolquality  policetrust  streetquality  \\\n",
       "count  143.000000  143.000000     143.000000   143.000000     143.000000   \n",
       "mean     4.314685    2.538462       3.265734     3.699301       3.615385   \n",
       "std      0.799820    1.118155       0.992586     0.888383       1.131639   \n",
       "min      1.000000    1.000000       1.000000     1.000000       1.000000   \n",
       "25%      4.000000    2.000000       3.000000     3.000000       3.000000   \n",
       "50%      5.000000    3.000000       3.000000     4.000000       4.000000   \n",
       "75%      5.000000    3.000000       4.000000     4.000000       4.000000   \n",
       "max      5.000000    5.000000       5.000000     5.000000       5.000000   \n",
       "\n",
       "           events       happy  \n",
       "count  143.000000  143.000000  \n",
       "mean     4.216783    0.538462  \n",
       "std      0.848693    0.500271  \n",
       "min      1.000000    0.000000  \n",
       "25%      4.000000    0.000000  \n",
       "50%      4.000000    1.000000  \n",
       "75%      5.000000    1.000000  \n",
       "max      5.000000    1.000000  "
      ]
     },
     "execution_count": 74,
     "metadata": {},
     "output_type": "execute_result"
    }
   ],
   "source": [
    "df.describe()"
   ]
  },
  {
   "cell_type": "code",
   "execution_count": 24,
   "metadata": {},
   "outputs": [
    {
     "data": {
      "image/png": "[encoded data removed]",
      "text/plain": [
       "<Figure size 800x500 with 1 Axes>"
      ]
     },
     "metadata": {},
     "output_type": "display_data"
    }
   ],
   "source": [
    "plt.figure(figsize=(8,5))\n",
    "plt.grid(False)\n",
    "plt.title(\" \",color=\"red\",fontsize=14)\n",
    "plt.xlabel(None,color=\"red\",fontsize=10)\n",
    "plt.ylabel(None,color=\"red\",fontsize=10)\n",
    "sns.countplot(x=df[\"policetrust\"],color=\"lightgreen\");"
   ]
  },
  {
   "cell_type": "code",
   "execution_count": 25,
   "metadata": {},
   "outputs": [
    {
     "data": {
      "text/plain": [
       "Text(0.5, 1.0, 'The percentage of Happy and Unhapy')"
      ]
     },
     "execution_count": 25,
     "metadata": {},
     "output_type": "execute_result"
    },
    {
     "data": {
      "image/png": "[encoded data removed]",
      "text/plain": [
       "<Figure size 1000x500 with 1 Axes>"
      ]
     },
     "metadata": {},
     "output_type": "display_data"
    }
   ],
   "source": [
    "plt.figure(figsize=(10,5))\n",
    "plt.pie(df.happy.value_counts().values,labels=[\"Happy\",\"Un happy\"],autopct=\"%1.2f%%\")\n",
    "plt.title(\"The percentage of Happy and Unhapy\",color=\"black\",size=20)"
   ]
  },
  {
   "cell_type": "code",
   "execution_count": 26,
   "metadata": {},
   "outputs": [
    {
     "data": {
      "image/png": "[encoded data removed]",
      "text/plain": [
       "<Figure size 2000x1500 with 8 Axes>"
      ]
     },
     "metadata": {},
     "output_type": "display_data"
    }
   ],
   "source": [
    "import matplotlib.pyplot as plt\n",
    "import seaborn as sns\n",
    "\n",
    "# Create a 2x4 grid of subplots\n",
    "fig, axes = plt.subplots(2, 4, figsize=(20, 15))\n",
    "plt.tight_layout(pad=8)\n",
    "plt.grid(False)\n",
    "sns.set_style(\"whitegrid\",{'axes.grid' : False})\n",
    "\n",
    "axes[0, 0].set_title(\"Housecost Data\", fontsize=15, color=\"blue\")\n",
    "axes[0, 0].pie(df.housecost.value_counts(), autopct=\"%1.1f%%\", startangle=180)\n",
    "axes[0, 0].legend(\"right\")\n",
    "\n",
    "axes[0, 3].set_xlabel(\"housecost\", fontsize=15)\n",
    "axes[0, 3].set_title(\"housecost comparing with events\", fontsize=15, color=\"blue\")\n",
    "axes[0, 3].set_xlabel(\"Percentage\", fontsize=15, color=\"blue\")\n",
    "axes[0, 3].set_ylabel(None, color='blue')\n",
    "sns.barplot(x=df[\"housecost\"], y=df[\"ëvents\"], ax=axes[0, 3])\n",
    "\n",
    "axes[1, 1].set_title('schoolquality comparing with streetquality', fontsize=15, color='blue')\n",
    "axes[1, 1].set_xlabel('schoolquality', fontsize=12, color=\"blue\")\n",
    "axes[1, 1].set_ylabel('streetquality', fontsize=12, color=\"blue\")\n",
    "sns.barplot(x=df['schoolquality'], y=df['streetquality'], ax=axes[1, 1], alpha=0.5)\n",
    "\n",
    "axes[0, 1].set_title(\"Quality Difference\", fontsize=15, color=\"blue\")\n",
    "axes[0, 1].pie(df.schoolquality.value_counts(), autopct=\"%1.1f%%\", startangle=180)\n",
    "axes[0, 1].legend(\"upper right\")\n",
    "\n",
    "axes[1, 0].hist(df.policetrust, color='red', alpha=0.5)\n",
    "axes[1, 0].set_title(\"Trusting on policeDepartment\", fontsize=15, color='blue')\n",
    "axes[1, 0].set_xlabel('Trust', fontsize=15, color=\"blue\")\n",
    "axes[1, 0].set_ylabel('FriendlyPolice', fontsize=15, color=\"blue\")\n",
    "\n",
    "axes[0, 2].set_title(\"Information Data\", fontsize=15, color=\"blue\")\n",
    "axes[0, 2].pie(df.infoavail.value_counts(), autopct=\"%1.1f%%\", startangle=180)\n",
    "axes[0, 2].legend('Lower left')\n",
    "\n",
    "axes[1, 2].set_title('infoavail comparing with streetquality', fontsize=15, color=\"blue\")\n",
    "axes[1, 2].set_xlabel('infoavail', fontsize=12, color=\"blue\")\n",
    "axes[1, 2].set_ylabel('', fontsize=12, color='blue')\n",
    "sns.barplot(x=df[\"infoavail\"], y=df['streetquality'], ax=axes[1, 2], alpha=0.5)\n",
    "\n",
    "axes[1, 3].set_title('happiness', fontsize=15, color=\"blue\")\n",
    "axes[1, 3].set_xlabel('happy', fontsize=12, color=\"blue\")\n",
    "axes[1, 3].set_ylabel('', fontsize=12, color='blue')\n",
    "sns.barplot(x=df[\"happy\"], y=df['happy'], ax=axes[1, 3], alpha=0.5)  \n",
    "\n",
    "# Adjust the layout\n",
    "plt.tight_layout()\n",
    "\n",
    "# Show the plot\n",
    "plt.show()\n"
   ]
  },
  {
   "cell_type": "code",
   "execution_count": 114,
   "metadata": {},
   "outputs": [
    {
     "data": {
      "image/png": "[encoded data removed]",
      "text/plain": [
       "<Figure size 1000x500 with 2 Axes>"
      ]
     },
     "metadata": {},
     "output_type": "display_data"
    }
   ],
   "source": [
    "\"\"\"plt.figure(figsize=(10,5))\n",
    "sns.heatmap(df.corr(),annot=True)\n",
    "plt.show()\"\"\"\n",
    "plt.figure(figsize=(10, 5))\n",
    "sns.heatmap(df.corr(), annot=True, cmap='viridis')  # Change 'viridis' to your preferred color map\n",
    "plt.title('Correlation Heatmap')\n",
    "plt.show()"
   ]
  },
  {
   "cell_type": "code",
   "execution_count": 28,
   "metadata": {},
   "outputs": [
    {
     "name": "stdout",
     "output_type": "stream",
     "text": [
      "Collecting sklearn\n",
      "  Using cached sklearn-0.0.post12.tar.gz (2.6 kB)\n",
      "  Installing build dependencies: started\n",
      "  Installing build dependencies: finished with status 'done'\n",
      "  Getting requirements to build wheel: started\n",
      "  Getting requirements to build wheel: finished with status 'error'\n",
      "Note: you may need to restart the kernel to use updated packages.\n"
     ]
    },
    {
     "name": "stderr",
     "output_type": "stream",
     "text": [
      "  error: subprocess-exited-with-error\n",
      "  \n",
      "  × Getting requirements to build wheel did not run successfully.\n",
      "  │ exit code: 1\n",
      "  ╰─> [15 lines of output]\n",
      "      The 'sklearn' PyPI package is deprecated, use 'scikit-learn'\n",
      "      rather than 'sklearn' for pip commands.\n",
      "      \n",
      "      Here is how to fix this error in the main use cases:\n",
      "      - use 'pip install scikit-learn' rather than 'pip install sklearn'\n",
      "      - replace 'sklearn' by 'scikit-learn' in your pip requirements files\n",
      "        (requirements.txt, setup.py, setup.cfg, Pipfile, etc ...)\n",
      "      - if the 'sklearn' package is used by one of your dependencies,\n",
      "        it would be great if you take some time to track which package uses\n",
      "        'sklearn' instead of 'scikit-learn' and report it to their issue tracker\n",
      "      - as a last resort, set the environment variable\n",
      "        SKLEARN_ALLOW_DEPRECATED_SKLEARN_PACKAGE_INSTALL=True to avoid this error\n",
      "      \n",
      "      More information is available at\n",
      "      https://github.com/scikit-learn/sklearn-pypi-package\n",
      "      [end of output]\n",
      "  \n",
      "  note: This error originates from a subprocess, and is likely not a problem with pip.\n",
      "error: subprocess-exited-with-error\n",
      "\n",
      "× Getting requirements to build wheel did not run successfully.\n",
      "│ exit code: 1\n",
      "╰─> See above for output.\n",
      "\n",
      "note: This error originates from a subprocess, and is likely not a problem with pip.\n",
      "\n",
      "[notice] A new release of pip is available: 23.2.1 -> 24.0\n",
      "[notice] To update, run: python.exe -m pip install --upgrade pip\n"
     ]
    }
   ],
   "source": [
    "pip install sklearn"
   ]
  },
  {
   "cell_type": "code",
   "execution_count": 29,
   "metadata": {},
   "outputs": [
    {
     "name": "stdout",
     "output_type": "stream",
     "text": [
      "Requirement already satisfied: StandardScaler in c:\\users\\rasag\\appdata\\local\\programs\\python\\python312\\lib\\site-packages (0.5)\n",
      "Requirement already satisfied: numpy in c:\\users\\rasag\\appdata\\local\\programs\\python\\python312\\lib\\site-packages (from StandardScaler) (1.26.3)\n",
      "Requirement already satisfied: pandas in c:\\users\\rasag\\appdata\\local\\programs\\python\\python312\\lib\\site-packages (from StandardScaler) (2.1.4)\n",
      "Requirement already satisfied: scikit-learn in c:\\users\\rasag\\appdata\\local\\programs\\python\\python312\\lib\\site-packages (from StandardScaler) (1.4.0)\n",
      "Requirement already satisfied: scikit-elm in c:\\users\\rasag\\appdata\\local\\programs\\python\\python312\\lib\\site-packages (from StandardScaler) (0.21a0)\n",
      "Requirement already satisfied: dask in c:\\users\\rasag\\appdata\\local\\programs\\python\\python312\\lib\\site-packages (from StandardScaler) (2023.12.1)\n",
      "Requirement already satisfied: click>=8.1 in c:\\users\\rasag\\appdata\\local\\programs\\python\\python312\\lib\\site-packages (from dask->StandardScaler) (8.1.7)\n",
      "Requirement already satisfied: cloudpickle>=1.5.0 in c:\\users\\rasag\\appdata\\local\\programs\\python\\python312\\lib\\site-packages (from dask->StandardScaler) (3.0.0)\n",
      "Requirement already satisfied: fsspec>=2021.09.0 in c:\\users\\rasag\\appdata\\local\\programs\\python\\python312\\lib\\site-packages (from dask->StandardScaler) (2023.12.2)\n",
      "Requirement already satisfied: packaging>=20.0 in c:\\users\\rasag\\appdata\\roaming\\python\\python312\\site-packages (from dask->StandardScaler) (23.2)\n",
      "Requirement already satisfied: partd>=1.2.0 in c:\\users\\rasag\\appdata\\local\\programs\\python\\python312\\lib\\site-packages (from dask->StandardScaler) (1.4.1)\n",
      "Requirement already satisfied: pyyaml>=5.3.1 in c:\\users\\rasag\\appdata\\local\\programs\\python\\python312\\lib\\site-packages (from dask->StandardScaler) (6.0.1)\n",
      "Requirement already satisfied: toolz>=0.10.0 in c:\\users\\rasag\\appdata\\local\\programs\\python\\python312\\lib\\site-packages (from dask->StandardScaler) (0.12.0)\n",
      "Requirement already satisfied: importlib-metadata>=4.13.0 in c:\\users\\rasag\\appdata\\local\\programs\\python\\python312\\lib\\site-packages (from dask->StandardScaler) (7.0.1)\n",
      "Requirement already satisfied: python-dateutil>=2.8.2 in c:\\users\\rasag\\appdata\\roaming\\python\\python312\\site-packages (from pandas->StandardScaler) (2.8.2)\n",
      "Requirement already satisfied: pytz>=2020.1 in c:\\users\\rasag\\appdata\\local\\programs\\python\\python312\\lib\\site-packages (from pandas->StandardScaler) (2023.3.post1)\n",
      "Requirement already satisfied: tzdata>=2022.1 in c:\\users\\rasag\\appdata\\local\\programs\\python\\python312\\lib\\site-packages (from pandas->StandardScaler) (2023.4)\n",
      "Requirement already satisfied: scipy in c:\\users\\rasag\\appdata\\local\\programs\\python\\python312\\lib\\site-packages (from scikit-elm->StandardScaler) (1.11.4)\n",
      "Requirement already satisfied: joblib>=1.2.0 in c:\\users\\rasag\\appdata\\local\\programs\\python\\python312\\lib\\site-packages (from scikit-learn->StandardScaler) (1.3.2)\n",
      "Requirement already satisfied: threadpoolctl>=2.0.0 in c:\\users\\rasag\\appdata\\local\\programs\\python\\python312\\lib\\site-packages (from scikit-learn->StandardScaler) (3.2.0)\n",
      "Requirement already satisfied: colorama in c:\\users\\rasag\\appdata\\roaming\\python\\python312\\site-packages (from click>=8.1->dask->StandardScaler) (0.4.6)\n",
      "Requirement already satisfied: zipp>=0.5 in c:\\users\\rasag\\appdata\\local\\programs\\python\\python312\\lib\\site-packages (from importlib-metadata>=4.13.0->dask->StandardScaler) (3.17.0)\n",
      "Requirement already satisfied: locket in c:\\users\\rasag\\appdata\\local\\programs\\python\\python312\\lib\\site-packages (from partd>=1.2.0->dask->StandardScaler) (1.0.0)\n",
      "Requirement already satisfied: six>=1.5 in c:\\users\\rasag\\appdata\\roaming\\python\\python312\\site-packages (from python-dateutil>=2.8.2->pandas->StandardScaler) (1.16.0)\n",
      "Note: you may need to restart the kernel to use updated packages.\n"
     ]
    },
    {
     "name": "stderr",
     "output_type": "stream",
     "text": [
      "\n",
      "[notice] A new release of pip is available: 23.2.1 -> 24.0\n",
      "[notice] To update, run: python.exe -m pip install --upgrade pip\n"
     ]
    }
   ],
   "source": [
    "pip install StandardScaler"
   ]
  },
  {
   "cell_type": "code",
   "execution_count": 101,
   "metadata": {},
   "outputs": [],
   "source": [
    "from sklearn.preprocessing import StandardScaler\n",
    "sc = StandardScaler()\n"
   ]
  },
  {
   "cell_type": "code",
   "execution_count": 76,
   "metadata": {},
   "outputs": [
    {
     "name": "stdout",
     "output_type": "stream",
     "text": [
      "Requirement already satisfied: imblearn in c:\\users\\rasag\\appdata\\local\\programs\\python\\python312\\lib\\site-packages (0.0)\n",
      "Requirement already satisfied: imbalanced-learn in c:\\users\\rasag\\appdata\\local\\programs\\python\\python312\\lib\\site-packages (from imblearn) (0.12.0)\n",
      "Requirement already satisfied: numpy>=1.17.3 in c:\\users\\rasag\\appdata\\local\\programs\\python\\python312\\lib\\site-packages (from imbalanced-learn->imblearn) (1.26.3)\n",
      "Requirement already satisfied: scipy>=1.5.0 in c:\\users\\rasag\\appdata\\local\\programs\\python\\python312\\lib\\site-packages (from imbalanced-learn->imblearn) (1.11.4)\n",
      "Requirement already satisfied: scikit-learn>=1.0.2 in c:\\users\\rasag\\appdata\\local\\programs\\python\\python312\\lib\\site-packages (from imbalanced-learn->imblearn) (1.4.0)\n",
      "Requirement already satisfied: joblib>=1.1.1 in c:\\users\\rasag\\appdata\\local\\programs\\python\\python312\\lib\\site-packages (from imbalanced-learn->imblearn) (1.3.2)\n",
      "Requirement already satisfied: threadpoolctl>=2.0.0 in c:\\users\\rasag\\appdata\\local\\programs\\python\\python312\\lib\\site-packages (from imbalanced-learn->imblearn) (3.2.0)\n",
      "Note: you may need to restart the kernel to use updated packages.\n"
     ]
    },
    {
     "name": "stderr",
     "output_type": "stream",
     "text": [
      "\n",
      "[notice] A new release of pip is available: 23.2.1 -> 24.0\n",
      "[notice] To update, run: python.exe -m pip install --upgrade pip\n"
     ]
    }
   ],
   "source": [
    "pip install imblearn"
   ]
  },
  {
   "cell_type": "code",
   "execution_count": 77,
   "metadata": {},
   "outputs": [],
   "source": [
    "import pandas as pd\n",
    "from imblearn.over_sampling import SMOTE\n",
    "\n",
    "# Assuming 'data' is your DataFrame containing your dataset\n",
    "# 'data' should have 143 rows and 7 columns, with the 7th column as the target labels\n",
    "\n",
    "# Separate features and target labels\n",
    "X = df.iloc[:, :-1]  # Features are all columns except the last one\n",
    "y = df.iloc[:, -1]   # Target labels are in the last column\n",
    "\n",
    "# Use SMOTE to balance the dataset\n",
    "smote = SMOTE()\n",
    "X_resampled, y_resampled = smote.fit_resample(X, y)"
   ]
  },
  {
   "cell_type": "code",
   "execution_count": 78,
   "metadata": {},
   "outputs": [
    {
     "name": "stdout",
     "output_type": "stream",
     "text": [
      "Note: you may need to restart the kernel to use updated packages.\n"
     ]
    },
    {
     "name": "stderr",
     "output_type": "stream",
     "text": [
      "ERROR: Could not find a version that satisfies the requirement train_test_split (from versions: none)\n",
      "ERROR: No matching distribution found for train_test_split\n",
      "\n",
      "[notice] A new release of pip is available: 23.2.1 -> 24.0\n",
      "[notice] To update, run: python.exe -m pip install --upgrade pip\n"
     ]
    }
   ],
   "source": [
    "pip install train_test_split"
   ]
  },
  {
   "cell_type": "code",
   "execution_count": 79,
   "metadata": {},
   "outputs": [],
   "source": [
    "#print(df.keys())\n",
    "x=df.drop('happy',axis=1)\n",
    "y=df['happy']\n",
    "from sklearn.model_selection import train_test_split\n",
    "x_train,x_test,y_train,y_test=train_test_split(X_resampled, y_resampled,test_size=0.2,random_state=0)"
   ]
  },
  {
   "cell_type": "code",
   "execution_count": 115,
   "metadata": {},
   "outputs": [
    {
     "data": {
      "text/plain": [
       "array([[ 0.85864493, -0.47224431,  0.78235901,  0.36734632, -1.36415184,\n",
       "        -1.38675049],\n",
       "       [ 0.85864493,  0.41031063, -0.21976377, -0.76447749,  1.30179062,\n",
       "        -1.38675049],\n",
       "       [-1.61946955,  1.29286556,  1.78448179,  0.36734632,  1.30179062,\n",
       "        -0.21571674],\n",
       "       [-0.38041231, -1.35479924, -0.21976377, -3.0281251 , -2.25279933,\n",
       "        -0.21571674],\n",
       "       [ 0.85864493,  0.41031063,  0.78235901,  1.49917013,  0.41314313,\n",
       "         0.955317  ],\n",
       "       [-1.61946955, -0.47224431, -0.21976377, -0.76447749, -1.36415184,\n",
       "        -1.38675049],\n",
       "       [ 0.85864493,  0.41031063, -0.21976377, -0.76447749,  1.30179062,\n",
       "         0.955317  ],\n",
       "       [ 0.85864493,  0.41031063, -1.22188654,  0.36734632,  0.41314313,\n",
       "         0.955317  ],\n",
       "       [-0.38041231, -1.35479924, -0.21976377,  0.36734632,  0.41314313,\n",
       "        -1.38675049],\n",
       "       [ 0.85864493, -1.35479924,  0.78235901, -0.76447749,  1.30179062,\n",
       "         0.955317  ],\n",
       "       [-1.61946955, -0.47224431, -0.21976377, -0.76447749,  1.30179062,\n",
       "        -0.21571674],\n",
       "       [ 0.85864493,  1.29286556, -1.22188654,  0.36734632, -0.47550436,\n",
       "         0.955317  ],\n",
       "       [-0.38041231,  1.29286556,  0.78235901,  0.36734632, -0.47550436,\n",
       "        -0.21571674],\n",
       "       [-1.61946955,  0.41031063, -0.21976377,  0.36734632, -1.36415184,\n",
       "        -0.21571674],\n",
       "       [ 0.85864493, -0.47224431, -0.21976377,  1.49917013,  1.30179062,\n",
       "         0.955317  ],\n",
       "       [-1.61946955,  0.41031063, -2.22400932, -0.76447749, -0.47550436,\n",
       "        -0.21571674],\n",
       "       [ 0.85864493, -0.47224431, -0.21976377, -0.76447749, -1.36415184,\n",
       "         0.955317  ],\n",
       "       [ 0.85864493,  2.17542049,  1.78448179,  1.49917013,  1.30179062,\n",
       "         0.955317  ],\n",
       "       [ 0.85864493, -1.35479924, -1.22188654,  1.49917013, -1.36415184,\n",
       "        -0.21571674],\n",
       "       [-0.38041231,  0.41031063, -0.21976377, -0.76447749, -0.47550436,\n",
       "        -0.21571674],\n",
       "       [-0.38041231,  0.41031063,  1.78448179,  1.49917013,  1.30179062,\n",
       "        -0.21571674],\n",
       "       [-0.38041231,  0.41031063,  0.78235901,  0.36734632, -0.47550436,\n",
       "        -0.21571674],\n",
       "       [ 0.85864493,  2.17542049,  1.78448179, -1.89630129,  1.30179062,\n",
       "         0.955317  ],\n",
       "       [-0.38041231, -0.47224431,  0.78235901, -0.76447749, -1.36415184,\n",
       "        -0.21571674],\n",
       "       [-1.61946955, -0.47224431,  0.78235901, -0.76447749,  0.41314313,\n",
       "        -0.21571674],\n",
       "       [ 0.85864493, -0.47224431,  0.78235901,  1.49917013,  0.41314313,\n",
       "         0.955317  ],\n",
       "       [ 0.85864493,  0.41031063,  0.78235901, -0.76447749,  0.41314313,\n",
       "         0.955317  ],\n",
       "       [-0.38041231,  0.41031063,  1.78448179,  1.49917013,  1.30179062,\n",
       "        -0.21571674],\n",
       "       [-0.38041231, -1.35479924, -0.21976377,  0.36734632,  0.41314313,\n",
       "        -0.21571674],\n",
       "       [ 0.85864493,  0.41031063, -0.21976377,  0.36734632, -0.47550436,\n",
       "        -1.38675049],\n",
       "       [ 0.85864493, -0.47224431, -0.21976377,  0.36734632, -1.36415184,\n",
       "         0.955317  ],\n",
       "       [-1.61946955, -1.35479924, -1.22188654,  0.36734632, -0.47550436,\n",
       "         0.955317  ],\n",
       "       [ 0.85864493,  0.41031063, -0.21976377, -0.76447749,  1.30179062,\n",
       "        -1.38675049],\n",
       "       [-1.61946955, -1.35479924, -1.22188654, -0.76447749, -0.47550436,\n",
       "        -3.72881799],\n",
       "       [-1.61946955,  1.29286556, -0.21976377,  0.36734632, -2.25279933,\n",
       "        -0.21571674],\n",
       "       [-0.38041231,  1.29286556,  0.78235901,  0.36734632, -2.25279933,\n",
       "        -1.38675049],\n",
       "       [-0.38041231, -1.35479924, -0.21976377,  0.36734632,  0.41314313,\n",
       "         0.955317  ],\n",
       "       [ 0.85864493, -0.47224431,  1.78448179,  1.49917013,  1.30179062,\n",
       "         0.955317  ],\n",
       "       [-0.38041231,  0.41031063, -0.21976377,  0.36734632,  0.41314313,\n",
       "         0.955317  ],\n",
       "       [ 0.85864493, -0.47224431,  0.78235901, -1.89630129, -1.36415184,\n",
       "        -0.21571674],\n",
       "       [ 0.85864493,  0.41031063, -0.21976377, -3.0281251 , -0.47550436,\n",
       "         0.955317  ],\n",
       "       [-0.38041231,  0.41031063, -0.21976377,  0.36734632,  0.41314313,\n",
       "        -0.21571674],\n",
       "       [ 0.85864493, -1.35479924, -0.21976377, -0.76447749,  0.41314313,\n",
       "        -0.21571674],\n",
       "       [ 0.85864493,  2.17542049, -0.21976377,  1.49917013,  1.30179062,\n",
       "         0.955317  ],\n",
       "       [ 0.85864493,  0.41031063, -0.21976377, -0.76447749, -1.36415184,\n",
       "         0.955317  ],\n",
       "       [-1.61946955,  0.41031063, -1.22188654,  0.36734632,  0.41314313,\n",
       "        -0.21571674],\n",
       "       [ 0.85864493,  0.41031063, -0.21976377,  0.36734632,  0.41314313,\n",
       "         0.955317  ],\n",
       "       [-1.61946955, -0.47224431,  0.78235901,  0.36734632,  0.41314313,\n",
       "         0.955317  ],\n",
       "       [-0.38041231,  2.17542049,  1.78448179,  1.49917013, -2.25279933,\n",
       "        -1.38675049],\n",
       "       [-1.61946955, -0.47224431,  0.78235901,  0.36734632,  0.41314313,\n",
       "         0.955317  ],\n",
       "       [ 0.85864493, -0.47224431, -1.22188654,  0.36734632,  0.41314313,\n",
       "         0.955317  ],\n",
       "       [ 0.85864493,  1.29286556,  0.78235901,  0.36734632,  0.41314313,\n",
       "         0.955317  ],\n",
       "       [ 0.85864493, -0.47224431, -0.21976377, -0.76447749, -0.47550436,\n",
       "        -1.38675049],\n",
       "       [-1.61946955,  0.41031063, -0.21976377,  1.49917013,  0.41314313,\n",
       "        -1.38675049],\n",
       "       [-0.38041231, -0.47224431,  0.78235901,  0.36734632,  0.41314313,\n",
       "        -0.21571674],\n",
       "       [-0.38041231,  0.41031063, -1.22188654, -0.76447749, -1.36415184,\n",
       "        -0.21571674],\n",
       "       [ 0.85864493,  0.41031063,  0.78235901,  0.36734632,  0.41314313,\n",
       "        -0.21571674],\n",
       "       [ 0.85864493, -1.35479924,  0.78235901,  0.36734632,  0.41314313,\n",
       "         0.955317  ],\n",
       "       [-0.38041231, -1.35479924,  0.78235901,  0.36734632,  0.41314313,\n",
       "        -0.21571674],\n",
       "       [-0.38041231, -0.47224431,  0.78235901,  1.49917013,  0.41314313,\n",
       "        -1.38675049],\n",
       "       [-0.38041231, -0.47224431, -0.21976377,  0.36734632, -0.47550436,\n",
       "        -1.38675049],\n",
       "       [ 0.85864493, -0.47224431, -0.21976377, -0.76447749, -0.47550436,\n",
       "         0.955317  ],\n",
       "       [ 0.85864493,  1.29286556, -0.21976377, -0.76447749, -0.47550436,\n",
       "         0.955317  ],\n",
       "       [ 0.85864493, -1.35479924,  0.78235901, -0.76447749,  0.41314313,\n",
       "         0.955317  ],\n",
       "       [ 0.85864493,  0.41031063,  0.78235901, -0.76447749,  0.41314313,\n",
       "         0.955317  ],\n",
       "       [ 0.85864493, -1.35479924,  1.78448179,  1.49917013,  1.30179062,\n",
       "         0.955317  ],\n",
       "       [ 0.85864493, -1.35479924,  1.78448179, -0.76447749,  1.30179062,\n",
       "         0.955317  ],\n",
       "       [-1.61946955, -1.35479924, -1.22188654, -1.89630129, -2.25279933,\n",
       "        -1.38675049],\n",
       "       [ 0.85864493,  2.17542049, -0.21976377,  0.36734632,  0.41314313,\n",
       "         0.955317  ],\n",
       "       [ 0.85864493,  0.41031063, -0.21976377, -0.76447749, -0.47550436,\n",
       "         0.955317  ],\n",
       "       [ 0.85864493, -0.47224431,  0.78235901,  0.36734632,  1.30179062,\n",
       "         0.955317  ],\n",
       "       [ 0.85864493, -1.35479924, -0.21976377, -0.76447749,  0.41314313,\n",
       "        -0.21571674],\n",
       "       [-4.09758403, -1.35479924, -2.22400932, -0.76447749, -2.25279933,\n",
       "        -0.21571674],\n",
       "       [-1.61946955, -1.35479924, -0.21976377, -1.89630129, -2.25279933,\n",
       "        -2.55778424],\n",
       "       [-0.38041231,  0.41031063, -0.21976377,  0.36734632, -1.36415184,\n",
       "        -0.21571674],\n",
       "       [ 0.85864493,  2.17542049,  1.78448179,  1.49917013,  1.30179062,\n",
       "         0.955317  ],\n",
       "       [ 0.85864493,  0.41031063,  1.78448179,  1.49917013,  0.41314313,\n",
       "         0.955317  ],\n",
       "       [ 0.85864493,  0.41031063, -0.21976377,  0.36734632,  0.41314313,\n",
       "         0.955317  ],\n",
       "       [ 0.85864493, -0.47224431, -0.21976377, -0.76447749, -1.36415184,\n",
       "         0.955317  ],\n",
       "       [ 0.85864493,  2.17542049, -2.22400932, -3.0281251 ,  1.30179062,\n",
       "        -3.72881799],\n",
       "       [-0.38041231,  0.41031063,  0.78235901,  0.36734632, -1.36415184,\n",
       "        -0.21571674],\n",
       "       [-0.38041231,  1.29286556, -0.21976377,  0.36734632, -1.36415184,\n",
       "        -0.21571674],\n",
       "       [-0.38041231,  0.41031063, -1.22188654,  0.36734632, -0.47550436,\n",
       "        -0.21571674],\n",
       "       [ 0.85864493,  0.41031063, -1.22188654,  0.36734632,  0.41314313,\n",
       "        -0.21571674],\n",
       "       [ 0.85864493,  0.41031063,  0.78235901,  0.36734632,  0.41314313,\n",
       "         0.955317  ],\n",
       "       [-1.61946955,  0.41031063, -0.21976377, -0.76447749, -0.47550436,\n",
       "        -0.21571674],\n",
       "       [ 0.85864493,  0.41031063, -0.21976377,  0.36734632,  0.41314313,\n",
       "        -0.21571674],\n",
       "       [-0.38041231, -0.47224431, -0.21976377, -0.76447749,  0.41314313,\n",
       "        -0.21571674],\n",
       "       [-0.38041231,  0.41031063, -1.22188654,  0.36734632, -0.47550436,\n",
       "        -0.21571674],\n",
       "       [-0.38041231,  0.41031063, -0.21976377,  0.36734632, -0.47550436,\n",
       "        -0.21571674],\n",
       "       [-0.38041231,  0.41031063, -0.21976377, -0.76447749,  0.41314313,\n",
       "        -0.21571674],\n",
       "       [ 0.85864493, -0.47224431, -0.21976377,  0.36734632,  0.41314313,\n",
       "        -1.38675049],\n",
       "       [ 0.85864493, -1.35479924, -2.22400932,  1.49917013, -0.47550436,\n",
       "         0.955317  ],\n",
       "       [-0.38041231,  1.29286556, -0.21976377, -0.76447749, -1.36415184,\n",
       "         0.955317  ],\n",
       "       [-0.38041231, -1.35479924, -0.21976377, -0.76447749, -0.47550436,\n",
       "        -0.21571674],\n",
       "       [-0.38041231, -0.47224431, -0.21976377, -0.76447749,  0.41314313,\n",
       "        -0.21571674],\n",
       "       [-1.61946955,  0.41031063, -2.22400932, -0.76447749, -0.47550436,\n",
       "        -0.21571674],\n",
       "       [ 0.85864493,  1.29286556,  1.78448179,  0.36734632,  1.30179062,\n",
       "        -0.21571674],\n",
       "       [ 0.85864493, -1.35479924,  1.78448179,  1.49917013,  1.30179062,\n",
       "         0.955317  ],\n",
       "       [-1.61946955, -0.47224431, -0.21976377,  1.49917013,  0.41314313,\n",
       "        -1.38675049],\n",
       "       [ 0.85864493, -1.35479924, -0.21976377, -0.76447749,  0.41314313,\n",
       "        -0.21571674],\n",
       "       [ 0.85864493,  1.29286556,  0.78235901,  0.36734632,  0.41314313,\n",
       "         0.955317  ],\n",
       "       [ 0.85864493, -1.35479924, -0.21976377,  0.36734632,  1.30179062,\n",
       "         0.955317  ],\n",
       "       [-1.61946955, -0.47224431, -1.22188654, -0.76447749, -0.47550436,\n",
       "        -1.38675049],\n",
       "       [-0.38041231,  0.41031063, -1.22188654,  0.36734632,  0.41314313,\n",
       "        -0.21571674],\n",
       "       [-0.38041231, -0.47224431, -1.22188654,  0.36734632,  0.41314313,\n",
       "         0.955317  ],\n",
       "       [-0.38041231, -0.47224431,  0.78235901,  0.36734632,  0.41314313,\n",
       "        -0.21571674],\n",
       "       [ 0.85864493,  0.41031063, -1.22188654,  1.49917013,  1.30179062,\n",
       "         0.955317  ],\n",
       "       [-0.38041231, -0.47224431, -0.21976377, -0.76447749,  0.41314313,\n",
       "        -0.21571674],\n",
       "       [-0.38041231, -1.35479924, -2.22400932, -0.76447749,  0.41314313,\n",
       "        -0.21571674],\n",
       "       [-0.38041231,  1.29286556, -0.21976377,  0.36734632, -0.47550436,\n",
       "        -1.38675049],\n",
       "       [-0.38041231, -1.35479924, -0.21976377, -0.76447749,  0.41314313,\n",
       "        -1.38675049],\n",
       "       [ 0.85864493, -0.47224431, -0.21976377,  0.36734632,  0.41314313,\n",
       "         0.955317  ],\n",
       "       [ 0.85864493,  1.29286556,  0.78235901, -0.76447749, -0.47550436,\n",
       "        -0.21571674]])"
      ]
     },
     "execution_count": 115,
     "metadata": {},
     "output_type": "execute_result"
    }
   ],
   "source": [
    "x_train=sc.fit_transform(x_train)\n",
    "x_test=sc.transform(x_test)\n",
    "x_train"
   ]
  },
  {
   "cell_type": "code",
   "execution_count": 99,
   "metadata": {},
   "outputs": [
    {
     "data": {
      "text/html": [
       "<div>\n",
       "<style scoped>\n",
       "    .dataframe tbody tr th:only-of-type {\n",
       "        vertical-align: middle;\n",
       "    }\n",
       "\n",
       "    .dataframe tbody tr th {\n",
       "        vertical-align: top;\n",
       "    }\n",
       "\n",
       "    .dataframe thead th {\n",
       "        text-align: right;\n",
       "    }\n",
       "</style>\n",
       "<table border=\"1\" class=\"dataframe\">\n",
       "  <thead>\n",
       "    <tr style=\"text-align: right;\">\n",
       "      <th></th>\n",
       "      <th>0</th>\n",
       "      <th>1</th>\n",
       "      <th>2</th>\n",
       "      <th>3</th>\n",
       "      <th>4</th>\n",
       "      <th>5</th>\n",
       "    </tr>\n",
       "  </thead>\n",
       "  <tbody>\n",
       "    <tr>\n",
       "      <th>0</th>\n",
       "      <td>0.858645</td>\n",
       "      <td>-0.472244</td>\n",
       "      <td>0.782359</td>\n",
       "      <td>0.367346</td>\n",
       "      <td>-1.364152</td>\n",
       "      <td>-1.386750</td>\n",
       "    </tr>\n",
       "    <tr>\n",
       "      <th>1</th>\n",
       "      <td>0.858645</td>\n",
       "      <td>0.410311</td>\n",
       "      <td>-0.219764</td>\n",
       "      <td>-0.764477</td>\n",
       "      <td>1.301791</td>\n",
       "      <td>-1.386750</td>\n",
       "    </tr>\n",
       "    <tr>\n",
       "      <th>2</th>\n",
       "      <td>-1.619470</td>\n",
       "      <td>1.292866</td>\n",
       "      <td>1.784482</td>\n",
       "      <td>0.367346</td>\n",
       "      <td>1.301791</td>\n",
       "      <td>-0.215717</td>\n",
       "    </tr>\n",
       "    <tr>\n",
       "      <th>3</th>\n",
       "      <td>-0.380412</td>\n",
       "      <td>-1.354799</td>\n",
       "      <td>-0.219764</td>\n",
       "      <td>-3.028125</td>\n",
       "      <td>-2.252799</td>\n",
       "      <td>-0.215717</td>\n",
       "    </tr>\n",
       "    <tr>\n",
       "      <th>4</th>\n",
       "      <td>0.858645</td>\n",
       "      <td>0.410311</td>\n",
       "      <td>0.782359</td>\n",
       "      <td>1.499170</td>\n",
       "      <td>0.413143</td>\n",
       "      <td>0.955317</td>\n",
       "    </tr>\n",
       "    <tr>\n",
       "      <th>5</th>\n",
       "      <td>-1.619470</td>\n",
       "      <td>-0.472244</td>\n",
       "      <td>-0.219764</td>\n",
       "      <td>-0.764477</td>\n",
       "      <td>-1.364152</td>\n",
       "      <td>-1.386750</td>\n",
       "    </tr>\n",
       "    <tr>\n",
       "      <th>6</th>\n",
       "      <td>0.858645</td>\n",
       "      <td>0.410311</td>\n",
       "      <td>-0.219764</td>\n",
       "      <td>-0.764477</td>\n",
       "      <td>1.301791</td>\n",
       "      <td>0.955317</td>\n",
       "    </tr>\n",
       "    <tr>\n",
       "      <th>7</th>\n",
       "      <td>0.858645</td>\n",
       "      <td>0.410311</td>\n",
       "      <td>-1.221887</td>\n",
       "      <td>0.367346</td>\n",
       "      <td>0.413143</td>\n",
       "      <td>0.955317</td>\n",
       "    </tr>\n",
       "    <tr>\n",
       "      <th>8</th>\n",
       "      <td>-0.380412</td>\n",
       "      <td>-1.354799</td>\n",
       "      <td>-0.219764</td>\n",
       "      <td>0.367346</td>\n",
       "      <td>0.413143</td>\n",
       "      <td>-1.386750</td>\n",
       "    </tr>\n",
       "    <tr>\n",
       "      <th>9</th>\n",
       "      <td>0.858645</td>\n",
       "      <td>-1.354799</td>\n",
       "      <td>0.782359</td>\n",
       "      <td>-0.764477</td>\n",
       "      <td>1.301791</td>\n",
       "      <td>0.955317</td>\n",
       "    </tr>\n",
       "  </tbody>\n",
       "</table>\n",
       "</div>"
      ],
      "text/plain": [
       "          0         1         2         3         4         5\n",
       "0  0.858645 -0.472244  0.782359  0.367346 -1.364152 -1.386750\n",
       "1  0.858645  0.410311 -0.219764 -0.764477  1.301791 -1.386750\n",
       "2 -1.619470  1.292866  1.784482  0.367346  1.301791 -0.215717\n",
       "3 -0.380412 -1.354799 -0.219764 -3.028125 -2.252799 -0.215717\n",
       "4  0.858645  0.410311  0.782359  1.499170  0.413143  0.955317\n",
       "5 -1.619470 -0.472244 -0.219764 -0.764477 -1.364152 -1.386750\n",
       "6  0.858645  0.410311 -0.219764 -0.764477  1.301791  0.955317\n",
       "7  0.858645  0.410311 -1.221887  0.367346  0.413143  0.955317\n",
       "8 -0.380412 -1.354799 -0.219764  0.367346  0.413143 -1.386750\n",
       "9  0.858645 -1.354799  0.782359 -0.764477  1.301791  0.955317"
      ]
     },
     "execution_count": 99,
     "metadata": {},
     "output_type": "execute_result"
    }
   ],
   "source": [
    "sc_xdata=pd.DataFrame(x_train)\n",
    "sc_xdata.head(10)"
   ]
  },
  {
   "cell_type": "code",
   "execution_count": 100,
   "metadata": {},
   "outputs": [
    {
     "data": {
      "text/plain": [
       "124    1\n",
       "31     0\n",
       "98     0\n",
       "36     1\n",
       "16     0\n",
       "10     0\n",
       "93     1\n",
       "111    1\n",
       "42     0\n",
       "118    1\n",
       "Name: happy, dtype: int64"
      ]
     },
     "execution_count": 100,
     "metadata": {},
     "output_type": "execute_result"
    }
   ],
   "source": [
    "sc_ydata = pd.DataFrame(y_train, copy=True)\n",
    "y_train.head(10)"
   ]
  },
  {
   "cell_type": "code",
   "execution_count": 38,
   "metadata": {},
   "outputs": [
    {
     "name": "stdout",
     "output_type": "stream",
     "text": [
      "Requirement already satisfied: scikit-learn in c:\\users\\rasag\\appdata\\local\\programs\\python\\python312\\lib\\site-packages (1.4.0)\n",
      "Requirement already satisfied: numpy<2.0,>=1.19.5 in c:\\users\\rasag\\appdata\\local\\programs\\python\\python312\\lib\\site-packages (from scikit-learn) (1.26.3)\n",
      "Requirement already satisfied: scipy>=1.6.0 in c:\\users\\rasag\\appdata\\local\\programs\\python\\python312\\lib\\site-packages (from scikit-learn) (1.11.4)\n",
      "Requirement already satisfied: joblib>=1.2.0 in c:\\users\\rasag\\appdata\\local\\programs\\python\\python312\\lib\\site-packages (from scikit-learn) (1.3.2)\n",
      "Requirement already satisfied: threadpoolctl>=2.0.0 in c:\\users\\rasag\\appdata\\local\\programs\\python\\python312\\lib\\site-packages (from scikit-learn) (3.2.0)\n",
      "Note: you may need to restart the kernel to use updated packages.\n"
     ]
    },
    {
     "name": "stderr",
     "output_type": "stream",
     "text": [
      "\n",
      "[notice] A new release of pip is available: 23.2.1 -> 24.0\n",
      "[notice] To update, run: python.exe -m pip install --upgrade pip\n"
     ]
    }
   ],
   "source": [
    "pip install --upgrade scikit-learn\n"
   ]
  },
  {
   "cell_type": "code",
   "execution_count": 39,
   "metadata": {},
   "outputs": [
    {
     "name": "stdout",
     "output_type": "stream",
     "text": [
      "Requirement already satisfied: scikit-learn in c:\\users\\rasag\\appdata\\local\\programs\\python\\python312\\lib\\site-packages (1.4.0)\n",
      "Requirement already satisfied: numpy<2.0,>=1.19.5 in c:\\users\\rasag\\appdata\\local\\programs\\python\\python312\\lib\\site-packages (from scikit-learn) (1.26.3)\n",
      "Requirement already satisfied: scipy>=1.6.0 in c:\\users\\rasag\\appdata\\local\\programs\\python\\python312\\lib\\site-packages (from scikit-learn) (1.11.4)\n",
      "Requirement already satisfied: joblib>=1.2.0 in c:\\users\\rasag\\appdata\\local\\programs\\python\\python312\\lib\\site-packages (from scikit-learn) (1.3.2)\n",
      "Requirement already satisfied: threadpoolctl>=2.0.0 in c:\\users\\rasag\\appdata\\local\\programs\\python\\python312\\lib\\site-packages (from scikit-learn) (3.2.0)\n",
      "Note: you may need to restart the kernel to use updated packages.\n"
     ]
    },
    {
     "name": "stderr",
     "output_type": "stream",
     "text": [
      "\n",
      "[notice] A new release of pip is available: 23.2.1 -> 24.0\n",
      "[notice] To update, run: python.exe -m pip install --upgrade pip\n"
     ]
    }
   ],
   "source": [
    "pip install scikit-learn\n"
   ]
  },
  {
   "cell_type": "code",
   "execution_count": 87,
   "metadata": {},
   "outputs": [
    {
     "name": "stdout",
     "output_type": "stream",
     "text": [
      "dt-train Accuracy: 0.9649122807017544\n",
      "dt-test accuracy: 0.5517241379310345\n",
      "dt-train precision: 0.9656177251045956\n",
      "dt-test precision: 0.5506792058516197\n",
      "dt-train recall: 0.9649122807017544\n",
      "dt-test recall: 0.5517241379310345\n",
      "dt-train f1score: 0.964966697139872\n",
      "dt-test f1score: 0.5452037617554859\n"
     ]
    }
   ],
   "source": [
    "from sklearn.model_selection import train_test_split\n",
    "from sklearn.tree import DecisionTreeClassifier\n",
    "from sklearn.metrics import accuracy_score, precision_score, recall_score, f1_score\n",
    "\n",
    "# Assuming you have your features in X and labels in y\n",
    "# Replace X and y with your actual feature and label data\n",
    "x=df.drop('happy',axis=1)\n",
    "y=df['happy']\n",
    "# Split your data into training and testing sets\n",
    "x_train, x_test, y_train, y_test = train_test_split(x, y, test_size=0.2, random_state=42)\n",
    "\n",
    "# Create an instance of DecisionTreeClassifier\n",
    "dt = DecisionTreeClassifier()\n",
    "\n",
    "# Train the classifier on the training data\n",
    "dt.fit(x_train, y_train)\n",
    "\n",
    "# Make predictions on the training and test sets\n",
    "y_train_pred = dt.predict(x_train)\n",
    "y_test_pred = dt.predict(x_test)\n",
    "\n",
    "# Calculate metrics\n",
    "train_accuracy = accuracy_score(y_train, y_train_pred)\n",
    "train_precision = precision_score(y_train, y_train_pred, average='weighted')\n",
    "train_recall = recall_score(y_train, y_train_pred, average='weighted')\n",
    "train_f1score = f1_score(y_train, y_train_pred, average='weighted')\n",
    "\n",
    "test_accuracy = accuracy_score(y_test, y_test_pred)\n",
    "test_precision = precision_score(y_test, y_test_pred, average='weighted')\n",
    "test_recall = recall_score(y_test, y_test_pred, average='weighted')\n",
    "test_f1score = f1_score(y_test, y_test_pred, average='weighted')\n",
    "\n",
    "# Print the results\n",
    "print(\"dt-train Accuracy:\", train_accuracy)\n",
    "print(\"dt-test accuracy:\", test_accuracy)\n",
    "\n",
    "print(\"dt-train precision:\", train_precision)\n",
    "print(\"dt-test precision:\", test_precision)\n",
    "\n",
    "print(\"dt-train recall:\", train_recall)\n",
    "print(\"dt-test recall:\", test_recall)\n",
    "\n",
    "print(\"dt-train f1score:\", train_f1score)\n",
    "print(\"dt-test f1score:\", test_f1score)\n"
   ]
  },
  {
   "cell_type": "code",
   "execution_count": 103,
   "metadata": {},
   "outputs": [
    {
     "name": "stdout",
     "output_type": "stream",
     "text": [
      "rf-train Accuracy: 0.9649122807017544\n",
      "rf-test accuracy: 0.5517241379310345\n",
      "rf-train precision: 0.96700706991359\n",
      "rf-test precision: 0.5530377668308702\n",
      "rf-train recall: 0.9649122807017544\n",
      "rf-test recall: 0.5517241379310345\n",
      "rf-train f1score: 0.9647360158638354\n",
      "rf-test f1score: 0.5517241379310345\n"
     ]
    }
   ],
   "source": [
    "from sklearn.model_selection import train_test_split\n",
    "from sklearn.ensemble import RandomForestClassifier\n",
    "from sklearn.metrics import accuracy_score, precision_score, recall_score, f1_score\n",
    "\n",
    "# Assuming you have your features in X and labels in y\n",
    "# Replace X and y with your actual feature and label data\n",
    "x=df.drop('happy',axis=1)\n",
    "y=df['happy']\n",
    "# Split your data into training and testing sets\n",
    "x_train, x_test, y_train, y_test = train_test_split(x, y, test_size=0.2, random_state=42)\n",
    "\n",
    "# Create an instance of DecisionTreeClassifier\n",
    "rf = RandomForestClassifier()\n",
    "\n",
    "# Train the classifier on the training data\n",
    "rf.fit(x_train, y_train)\n",
    "\n",
    "# Make predictions on the training and test sets\n",
    "y_train_pred = rf.predict(x_train)\n",
    "y_test_pred = rf.predict(x_test)\n",
    "\n",
    "# Calculate metrics\n",
    "train_accuracy = accuracy_score(y_train, y_train_pred)\n",
    "train_precision = precision_score(y_train, y_train_pred, average='weighted')\n",
    "train_recall = recall_score(y_train, y_train_pred, average='weighted')\n",
    "train_f1score = f1_score(y_train, y_train_pred, average='weighted')\n",
    "\n",
    "test_accuracy = accuracy_score(y_test, y_test_pred)\n",
    "test_precision = precision_score(y_test, y_test_pred, average='weighted')\n",
    "test_recall = recall_score(y_test, y_test_pred, average='weighted')\n",
    "test_f1score = f1_score(y_test, y_test_pred, average='weighted')\n",
    "\n",
    "# Print the results\n",
    "print(\"rf-train Accuracy:\", train_accuracy)\n",
    "print(\"rf-test accuracy:\", test_accuracy)\n",
    "\n",
    "print(\"rf-train precision:\", train_precision)\n",
    "print(\"rf-test precision:\", test_precision)\n",
    "\n",
    "print(\"rf-train recall:\", train_recall)\n",
    "print(\"rf-test recall:\", test_recall)\n",
    "\n",
    "print(\"rf-train f1score:\", train_f1score)\n",
    "print(\"rf-test f1score:\", test_f1score)\n"
   ]
  },
  {
   "cell_type": "code",
   "execution_count": 108,
   "metadata": {},
   "outputs": [
    {
     "name": "stdout",
     "output_type": "stream",
     "text": [
      "knn-train Accuracy: 0.9649122807017544\n",
      "knn-test accuracy: 0.5517241379310345\n",
      "knn-train precision: 0.96700706991359\n",
      "knn-test precision: 0.5530377668308702\n",
      "knn-train recall: 0.9649122807017544\n",
      "knn-test recall: 0.5517241379310345\n",
      "knn-train f1score: 0.9647360158638354\n",
      "knn-test f1score: 0.5517241379310345\n"
     ]
    }
   ],
   "source": [
    "from sklearn.model_selection import train_test_split\n",
    "from sklearn.neighbors import KNeighborsClassifier\n",
    "from sklearn.metrics import accuracy_score, precision_score, recall_score, f1_score\n",
    "\n",
    "# Assuming you have your features in X and labels in y\n",
    "# Replace X and y with your actual feature and label data\n",
    "x=df.drop('happy',axis=1)\n",
    "y=df['happy']\n",
    "# Split your data into training and testing sets\n",
    "x_train, x_test, y_train, y_test = train_test_split(x, y, test_size=0.2, random_state=42)\n",
    "\n",
    "# Create an instance of DecisionTreeClassifier\n",
    "knn = KNeighborsClassifier()\n",
    "\n",
    "# Train the classifier on the training data\n",
    "knn.fit(x_train, y_train)\n",
    "\n",
    "# Make predictions on the training and test sets\n",
    "y_train_pred = rf.predict(x_train)\n",
    "y_test_pred = rf.predict(x_test)\n",
    "\n",
    "# Calculate metrics\n",
    "train_accuracy = accuracy_score(y_train, y_train_pred)\n",
    "train_precision = precision_score(y_train, y_train_pred, average='weighted')\n",
    "train_recall = recall_score(y_train, y_train_pred, average='weighted')\n",
    "train_f1score = f1_score(y_train, y_train_pred, average='weighted')\n",
    "\n",
    "test_accuracy = accuracy_score(y_test, y_test_pred)\n",
    "test_precision = precision_score(y_test, y_test_pred, average='weighted')\n",
    "test_recall = recall_score(y_test, y_test_pred, average='weighted')\n",
    "test_f1score = f1_score(y_test, y_test_pred, average='weighted')\n",
    "\n",
    "# Print the results\n",
    "print(\"knn-train Accuracy:\", train_accuracy)\n",
    "print(\"knn-test accuracy:\", test_accuracy)\n",
    "\n",
    "print(\"knn-train precision:\", train_precision)\n",
    "print(\"knn-test precision:\", test_precision)\n",
    "\n",
    "print(\"knn-train recall:\", train_recall)\n",
    "print(\"knn-test recall:\", test_recall)\n",
    "\n",
    "print(\"knn-train f1score:\", train_f1score)\n",
    "print(\"knn-test f1score:\", test_f1score)\n"
   ]
  },
  {
   "cell_type": "code",
   "execution_count": 43,
   "metadata": {},
   "outputs": [
    {
     "name": "stdout",
     "output_type": "stream",
     "text": [
      "svc-train Accuracy: 0.9649122807017544\n",
      "svc-test accuracy: 0.5862068965517241\n",
      "svc-train precision: 0.9653639593489217\n",
      "svc-test precision: 0.5862068965517241\n",
      "svc-train recall: 0.9649122807017544\n",
      "svc-test recall: 0.5862068965517241\n",
      "svc-train f1score: 0.9648355263157895\n",
      "svc-test f1score: 0.5862068965517241\n"
     ]
    }
   ],
   "source": [
    "from sklearn.model_selection import train_test_split\n",
    "from sklearn.svm import SVC\n",
    "from sklearn.metrics import accuracy_score, precision_score, recall_score, f1_score\n",
    "\n",
    "# Assuming you have your features in X and labels in y\n",
    "# Replace X and y with your actual feature and label data\n",
    "x=df.drop('happy',axis=1)\n",
    "y=df['happy']\n",
    "# Split your data into training and testing sets\n",
    "x_train, x_test, y_train, y_test = train_test_split(x, y, test_size=0.2, random_state=42)\n",
    "\n",
    "# Create an instance of DecisionTreeClassifier\n",
    "svc = SVC()\n",
    "\n",
    "# Train the classifier on the training data\n",
    "svc.fit(x_train, y_train)\n",
    "\n",
    "# Make predictions on the training and test sets\n",
    "y_train_pred = rf.predict(x_train)\n",
    "y_test_pred = rf.predict(x_test)\n",
    "\n",
    "# Calculate metrics\n",
    "train_accuracy = accuracy_score(y_train, y_train_pred)\n",
    "train_precision = precision_score(y_train, y_train_pred, average='weighted')\n",
    "train_recall = recall_score(y_train, y_train_pred, average='weighted')\n",
    "train_f1score = f1_score(y_train, y_train_pred, average='weighted')\n",
    "\n",
    "test_accuracy = accuracy_score(y_test, y_test_pred)\n",
    "test_precision = precision_score(y_test, y_test_pred, average='weighted')\n",
    "test_recall = recall_score(y_test, y_test_pred, average='weighted')\n",
    "test_f1score = f1_score(y_test, y_test_pred, average='weighted')\n",
    "\n",
    "# Print the results\n",
    "print(\"svc-train Accuracy:\", train_accuracy)\n",
    "print(\"svc-test accuracy:\", test_accuracy)\n",
    "\n",
    "print(\"svc-train precision:\", train_precision)\n",
    "print(\"svc-test precision:\", test_precision)\n",
    "\n",
    "print(\"svc-train recall:\", train_recall)\n",
    "print(\"svc-test recall:\", test_recall)\n",
    "\n",
    "print(\"svc-train f1score:\", train_f1score)\n",
    "print(\"svc-test f1score:\", test_f1score)\n"
   ]
  },
  {
   "cell_type": "code",
   "execution_count": 44,
   "metadata": {},
   "outputs": [
    {
     "name": "stdout",
     "output_type": "stream",
     "text": [
      "log-train Accuracy: 0.9649122807017544\n",
      "log-test accuracy: 0.5862068965517241\n",
      "log-train precision: 0.9653639593489217\n",
      "log-test precision: 0.5862068965517241\n",
      "log-train recall: 0.9649122807017544\n",
      "log-test recall: 0.5862068965517241\n",
      "log-train f1score: 0.9648355263157895\n",
      "log-test f1score: 0.5862068965517241\n"
     ]
    }
   ],
   "source": [
    "from sklearn.model_selection import train_test_split\n",
    "from sklearn.linear_model import LogisticRegression\n",
    "from sklearn.metrics import accuracy_score, precision_score, recall_score, f1_score\n",
    "\n",
    "# Assuming you have your features in X and labels in y\n",
    "# Replace X and y with your actual feature and label data\n",
    "x=df.drop('happy',axis=1)\n",
    "y=df['happy']\n",
    "# Split your data into training and testing sets\n",
    "x_train, x_test, y_train, y_test = train_test_split(x, y, test_size=0.2, random_state=42)\n",
    "\n",
    "# Create an instance of DecisionTreeClassifier\n",
    "log = LogisticRegression()\n",
    "\n",
    "# Train the classifier on the training data\n",
    "log.fit(x_train, y_train)\n",
    "\n",
    "# Make predictions on the training and test sets\n",
    "y_train_pred = rf.predict(x_train)\n",
    "y_test_pred = rf.predict(x_test)\n",
    "\n",
    "# Calculate metrics\n",
    "train_accuracy = accuracy_score(y_train, y_train_pred)\n",
    "train_precision = precision_score(y_train, y_train_pred, average='weighted')\n",
    "train_recall = recall_score(y_train, y_train_pred, average='weighted')\n",
    "train_f1score = f1_score(y_train, y_train_pred, average='weighted')\n",
    "\n",
    "test_accuracy = accuracy_score(y_test, y_test_pred)\n",
    "test_precision = precision_score(y_test, y_test_pred, average='weighted')\n",
    "test_recall = recall_score(y_test, y_test_pred, average='weighted')\n",
    "test_f1score = f1_score(y_test, y_test_pred, average='weighted')\n",
    "\n",
    "# Print the results\n",
    "print(\"log-train Accuracy:\", train_accuracy)\n",
    "print(\"log-test accuracy:\", test_accuracy)\n",
    "\n",
    "print(\"log-train precision:\", train_precision)\n",
    "print(\"log-test precision:\", test_precision)\n",
    "\n",
    "print(\"log-train recall:\", train_recall)\n",
    "print(\"log-test recall:\", test_recall)\n",
    "\n",
    "print(\"log-train f1score:\", train_f1score)\n",
    "print(\"log-test f1score:\", test_f1score)\n"
   ]
  },
  {
   "cell_type": "code",
   "execution_count": 113,
   "metadata": {},
   "outputs": [
    {
     "data": {
      "text/plain": [
       "array([0], dtype=int64)"
      ]
     },
     "execution_count": 113,
     "metadata": {},
     "output_type": "execute_result"
    }
   ],
   "source": [
    "input_data=np.array([5,1,2,5,2,4]).reshape(1,-1)\n",
    "rf.predict(sc.transform(input_data))"
   ]
  },
  {
   "cell_type": "code",
   "execution_count": 112,
   "metadata": {},
   "outputs": [
    {
     "data": {
      "text/plain": [
       "array([0], dtype=int64)"
      ]
     },
     "execution_count": 112,
     "metadata": {},
     "output_type": "execute_result"
    }
   ],
   "source": [
    "log.predict(sc.transform([[5,1,2,5,2,4]]))"
   ]
  },
  {
   "cell_type": "code",
   "execution_count": 47,
   "metadata": {},
   "outputs": [
    {
     "name": "stdout",
     "output_type": "stream",
     "text": [
      "Requirement already satisfied: xgboost in c:\\users\\rasag\\appdata\\local\\programs\\python\\python312\\lib\\site-packages (2.0.3)Note: you may need to restart the kernel to use updated packages.\n"
     ]
    },
    {
     "name": "stderr",
     "output_type": "stream",
     "text": [
      "\n",
      "[notice] A new release of pip is available: 23.2.1 -> 24.0\n",
      "[notice] To update, run: python.exe -m pip install --upgrade pip\n"
     ]
    },
    {
     "name": "stdout",
     "output_type": "stream",
     "text": [
      "\n",
      "Requirement already satisfied: numpy in c:\\users\\rasag\\appdata\\local\\programs\\python\\python312\\lib\\site-packages (from xgboost) (1.26.3)\n",
      "Requirement already satisfied: scipy in c:\\users\\rasag\\appdata\\local\\programs\\python\\python312\\lib\\site-packages (from xgboost) (1.11.4)\n"
     ]
    }
   ],
   "source": [
    "pip install xgboost"
   ]
  },
  {
   "cell_type": "code",
   "execution_count": 48,
   "metadata": {},
   "outputs": [],
   "source": [
    "import xgboost as xgb\n"
   ]
  },
  {
   "cell_type": "code",
   "execution_count": 96,
   "metadata": {},
   "outputs": [
    {
     "name": "stdout",
     "output_type": "stream",
     "text": [
      "xgboost-train Accuracy: 0.9385964912280702\n",
      "xgboost-test accuracy: 0.5862068965517241\n",
      "xgboost-train precision: 0.9386184210526316\n",
      "xgboost-test precision: 0.5862068965517241\n",
      "xgboost-train recall: 0.9385964912280702\n",
      "xgboost-test recall: 0.5862068965517241\n",
      "xgboost-train f1score: 0.9385342595593998\n",
      "xgboost-test f1score: 0.5862068965517241\n"
     ]
    }
   ],
   "source": [
    "import xgboost as xgb\n",
    "from sklearn.model_selection import train_test_split\n",
    "from sklearn.metrics import accuracy_score, precision_score, recall_score, f1_score\n",
    "\n",
    "# Assuming you have your features in X and labels in y\n",
    "# Replace X and y with your actual feature and label data\n",
    "x=df.drop('happy',axis=1)\n",
    "y=df['happy']\n",
    "\n",
    "# Split your data into training and testing sets\n",
    "x_train, x_test, y_train, y_test = train_test_split(x, y, test_size=0.2, random_state=42)\n",
    "\n",
    "# Create an instance of XGBClassifier\n",
    "xgboost_model = xgb.XGBClassifier()\n",
    "\n",
    "# Train the classifier on the training data\n",
    "xgboost_model.fit(x_train, y_train)\n",
    "\n",
    "# Make predictions on the training and test sets\n",
    "y_train_pred = xgboost_model.predict(x_train)\n",
    "y_test_pred = xgboost_model.predict(x_test)\n",
    "\n",
    "# Calculate metrics\n",
    "train_accuracy = accuracy_score(y_train, y_train_pred)\n",
    "train_precision = precision_score(y_train, y_train_pred, average='weighted')\n",
    "train_recall = recall_score(y_train, y_train_pred, average='weighted')\n",
    "train_f1score = f1_score(y_train, y_train_pred, average='weighted')\n",
    "\n",
    "test_accuracy = accuracy_score(y_test, y_test_pred)\n",
    "test_precision = precision_score(y_test, y_test_pred, average='weighted')\n",
    "test_recall = recall_score(y_test, y_test_pred, average='weighted')\n",
    "test_f1score = f1_score(y_test, y_test_pred, average='weighted')\n",
    "\n",
    "# Print the results\n",
    "print(\"xgboost-train Accuracy:\", train_accuracy)\n",
    "print(\"xgboost-test accuracy:\", test_accuracy)\n",
    "\n",
    "print(\"xgboost-train precision:\", train_precision)\n",
    "print(\"xgboost-test precision:\", test_precision)\n",
    "\n",
    "print(\"xgboost-train recall:\", train_recall)\n",
    "print(\"xgboost-test recall:\", test_recall)\n",
    "\n",
    "print(\"xgboost-train f1score:\", train_f1score)\n",
    "print(\"xgboost-test f1score:\", test_f1score)\n"
   ]
  },
  {
   "cell_type": "code",
   "execution_count": 95,
   "metadata": {},
   "outputs": [],
   "source": [
    "y_train_xgb=np.where(y_train=='yes',1,0)"
   ]
  },
  {
   "cell_type": "code",
   "execution_count": 93,
   "metadata": {},
   "outputs": [
    {
     "data": {
      "text/plain": [
       "array([1, 1, 0, 0, 1, 1, 0, 0, 0, 0, 1, 0, 0, 0, 1, 1, 0, 1, 1, 1, 1, 0,\n",
       "       0, 1, 1, 1, 0, 0, 0])"
      ]
     },
     "execution_count": 93,
     "metadata": {},
     "output_type": "execute_result"
    }
   ],
   "source": [
    "import xgboost as xgb\n",
    "from sklearn.model_selection import train_test_split\n",
    "from sklearn.metrics import accuracy_score, precision_score, recall_score, f1_score\n",
    "\n",
    "# Assuming you have your features in X and labels in y\n",
    "# Replace X and y with your actual feature and label data\n",
    "x=df.drop('happy',axis=1)\n",
    "y=df['happy']\n",
    "\n",
    "# Split your data into training and testing sets\n",
    "x_train, x_test, y_train, y_test = train_test_split(x, y, test_size=0.2, random_state=42)\n",
    "\n",
    "# Create an instance of XGBClassifier\n",
    "xgboost_model = xgb.XGBClassifier()\n",
    "\n",
    "# Train the classifier on the training data\n",
    "xgboost_model.fit(x_train, y_train)\n",
    "\n",
    "# Make predictions on the test set\n",
    "y_pred = xgboost_model.predict(x_test)\n",
    "y_pred\n",
    "\n",
    "# Now you can use y_pred as your predicted labels\n",
    "\n"
   ]
  },
  {
   "cell_type": "code",
   "execution_count": 94,
   "metadata": {},
   "outputs": [
    {
     "name": "stdout",
     "output_type": "stream",
     "text": [
      "Accuracy: 0.5862068965517241\n"
     ]
    }
   ],
   "source": [
    "accuracy=accuracy_score(y_test,y_pred)\n",
    "print(\"Accuracy:\",accuracy)"
   ]
  },
  {
   "cell_type": "code",
   "execution_count": 91,
   "metadata": {},
   "outputs": [],
   "source": [
    "from sklearn.model_selection import GridSearchCV\n",
    "param_grid={\n",
    "    'n_estimators':[25,50,100,150],\n",
    "    'max_features':['sqrt','log2',None],\n",
    "    'max_depth':[3,6,9],\n",
    "    'max_leaf_nodes':[3,6,9],\n",
    "}"
   ]
  },
  {
   "cell_type": "code",
   "execution_count": 90,
   "metadata": {},
   "outputs": [
    {
     "name": "stdout",
     "output_type": "stream",
     "text": [
      "GridSearchCV(cv=10, estimator=RandomForestClassifier(), n_jobs=-1,\n",
      "             param_grid={'max_depth': [3, 6, 9],\n",
      "                         'max_features': ['sqrt', 'log2', None],\n",
      "                         'max_leaf_nodes': [3, 6, 9],\n",
      "                         'n_estimators': [25, 50, 100, 150]},\n",
      "             verbose=2)\n"
     ]
    }
   ],
   "source": [
    "rf_classifier=RandomForestClassifier()\n",
    "rf_grid=GridSearchCV(\n",
    "    estimator=rf_classifier,\n",
    "    param_grid=param_grid,\n",
    "    cv=10,\n",
    "    verbose=2,\n",
    "    n_jobs=-1\n",
    ")\n",
    "print(rf_grid)\n"
   ]
  },
  {
   "cell_type": "code",
   "execution_count": 88,
   "metadata": {},
   "outputs": [
    {
     "name": "stdout",
     "output_type": "stream",
     "text": [
      "Fitting 10 folds for each of 108 candidates, totalling 1080 fits\n"
     ]
    },
    {
     "data": {
      "text/html": [
       "<style>#sk-container-id-2 {\n",
       "  /* Definition of color scheme common for light and dark mode */\n",
       "  --sklearn-color-text: black;\n",
       "  --sklearn-color-line: gray;\n",
       "  /* Definition of color scheme for unfitted estimators */\n",
       "  --sklearn-color-unfitted-level-0: #fff5e6;\n",
       "  --sklearn-color-unfitted-level-1: #f6e4d2;\n",
       "  --sklearn-color-unfitted-level-2: #ffe0b3;\n",
       "  --sklearn-color-unfitted-level-3: chocolate;\n",
       "  /* Definition of color scheme for fitted estimators */\n",
       "  --sklearn-color-fitted-level-0: #f0f8ff;\n",
       "  --sklearn-color-fitted-level-1: #d4ebff;\n",
       "  --sklearn-color-fitted-level-2: #b3dbfd;\n",
       "  --sklearn-color-fitted-level-3: cornflowerblue;\n",
       "\n",
       "  /* Specific color for light theme */\n",
       "  --sklearn-color-text-on-default-background: var(--sg-text-color, var(--theme-code-foreground, var(--jp-content-font-color1, black)));\n",
       "  --sklearn-color-background: var(--sg-background-color, var(--theme-background, var(--jp-layout-color0, white)));\n",
       "  --sklearn-color-border-box: var(--sg-text-color, var(--theme-code-foreground, var(--jp-content-font-color1, black)));\n",
       "  --sklearn-color-icon: #696969;\n",
       "\n",
       "  @media (prefers-color-scheme: dark) {\n",
       "    /* Redefinition of color scheme for dark theme */\n",
       "    --sklearn-color-text-on-default-background: var(--sg-text-color, var(--theme-code-foreground, var(--jp-content-font-color1, white)));\n",
       "    --sklearn-color-background: var(--sg-background-color, var(--theme-background, var(--jp-layout-color0, #111)));\n",
       "    --sklearn-color-border-box: var(--sg-text-color, var(--theme-code-foreground, var(--jp-content-font-color1, white)));\n",
       "    --sklearn-color-icon: #878787;\n",
       "  }\n",
       "}\n",
       "\n",
       "#sk-container-id-2 {\n",
       "  color: var(--sklearn-color-text);\n",
       "}\n",
       "\n",
       "#sk-container-id-2 pre {\n",
       "  padding: 0;\n",
       "}\n",
       "\n",
       "#sk-container-id-2 input.sk-hidden--visually {\n",
       "  border: 0;\n",
       "  clip: rect(1px 1px 1px 1px);\n",
       "  clip: rect(1px, 1px, 1px, 1px);\n",
       "  height: 1px;\n",
       "  margin: -1px;\n",
       "  overflow: hidden;\n",
       "  padding: 0;\n",
       "  position: absolute;\n",
       "  width: 1px;\n",
       "}\n",
       "\n",
       "#sk-container-id-2 div.sk-dashed-wrapped {\n",
       "  border: 1px dashed var(--sklearn-color-line);\n",
       "  margin: 0 0.4em 0.5em 0.4em;\n",
       "  box-sizing: border-box;\n",
       "  padding-bottom: 0.4em;\n",
       "  background-color: var(--sklearn-color-background);\n",
       "}\n",
       "\n",
       "#sk-container-id-2 div.sk-container {\n",
       "  /* jupyter's `normalize.less` sets `[hidden] { display: none; }`\n",
       "     but bootstrap.min.css set `[hidden] { display: none !important; }`\n",
       "     so we also need the `!important` here to be able to override the\n",
       "     default hidden behavior on the sphinx rendered scikit-learn.org.\n",
       "     See: https://github.com/scikit-learn/scikit-learn/issues/21755 */\n",
       "  display: inline-block !important;\n",
       "  position: relative;\n",
       "}\n",
       "\n",
       "#sk-container-id-2 div.sk-text-repr-fallback {\n",
       "  display: none;\n",
       "}\n",
       "\n",
       "div.sk-parallel-item,\n",
       "div.sk-serial,\n",
       "div.sk-item {\n",
       "  /* draw centered vertical line to link estimators */\n",
       "  background-image: linear-gradient(var(--sklearn-color-text-on-default-background), var(--sklearn-color-text-on-default-background));\n",
       "  background-size: 2px 100%;\n",
       "  background-repeat: no-repeat;\n",
       "  background-position: center center;\n",
       "}\n",
       "\n",
       "/* Parallel-specific style estimator block */\n",
       "\n",
       "#sk-container-id-2 div.sk-parallel-item::after {\n",
       "  content: \"\";\n",
       "  width: 100%;\n",
       "  border-bottom: 2px solid var(--sklearn-color-text-on-default-background);\n",
       "  flex-grow: 1;\n",
       "}\n",
       "\n",
       "#sk-container-id-2 div.sk-parallel {\n",
       "  display: flex;\n",
       "  align-items: stretch;\n",
       "  justify-content: center;\n",
       "  background-color: var(--sklearn-color-background);\n",
       "  position: relative;\n",
       "}\n",
       "\n",
       "#sk-container-id-2 div.sk-parallel-item {\n",
       "  display: flex;\n",
       "  flex-direction: column;\n",
       "}\n",
       "\n",
       "#sk-container-id-2 div.sk-parallel-item:first-child::after {\n",
       "  align-self: flex-end;\n",
       "  width: 50%;\n",
       "}\n",
       "\n",
       "#sk-container-id-2 div.sk-parallel-item:last-child::after {\n",
       "  align-self: flex-start;\n",
       "  width: 50%;\n",
       "}\n",
       "\n",
       "#sk-container-id-2 div.sk-parallel-item:only-child::after {\n",
       "  width: 0;\n",
       "}\n",
       "\n",
       "/* Serial-specific style estimator block */\n",
       "\n",
       "#sk-container-id-2 div.sk-serial {\n",
       "  display: flex;\n",
       "  flex-direction: column;\n",
       "  align-items: center;\n",
       "  background-color: var(--sklearn-color-background);\n",
       "  padding-right: 1em;\n",
       "  padding-left: 1em;\n",
       "}\n",
       "\n",
       "\n",
       "/* Toggleable style: style used for estimator/Pipeline/ColumnTransformer box that is\n",
       "clickable and can be expanded/collapsed.\n",
       "- Pipeline and ColumnTransformer use this feature and define the default style\n",
       "- Estimators will overwrite some part of the style using the `sk-estimator` class\n",
       "*/\n",
       "\n",
       "/* Pipeline and ColumnTransformer style (default) */\n",
       "\n",
       "#sk-container-id-2 div.sk-toggleable {\n",
       "  /* Default theme specific background. It is overwritten whether we have a\n",
       "  specific estimator or a Pipeline/ColumnTransformer */\n",
       "  background-color: var(--sklearn-color-background);\n",
       "}\n",
       "\n",
       "/* Toggleable label */\n",
       "#sk-container-id-2 label.sk-toggleable__label {\n",
       "  cursor: pointer;\n",
       "  display: block;\n",
       "  width: 100%;\n",
       "  margin-bottom: 0;\n",
       "  padding: 0.5em;\n",
       "  box-sizing: border-box;\n",
       "  text-align: center;\n",
       "}\n",
       "\n",
       "#sk-container-id-2 label.sk-toggleable__label-arrow:before {\n",
       "  /* Arrow on the left of the label */\n",
       "  content: \"▸\";\n",
       "  float: left;\n",
       "  margin-right: 0.25em;\n",
       "  color: var(--sklearn-color-icon);\n",
       "}\n",
       "\n",
       "#sk-container-id-2 label.sk-toggleable__label-arrow:hover:before {\n",
       "  color: var(--sklearn-color-text);\n",
       "}\n",
       "\n",
       "/* Toggleable content - dropdown */\n",
       "\n",
       "#sk-container-id-2 div.sk-toggleable__content {\n",
       "  max-height: 0;\n",
       "  max-width: 0;\n",
       "  overflow: hidden;\n",
       "  text-align: left;\n",
       "  /* unfitted */\n",
       "  background-color: var(--sklearn-color-unfitted-level-0);\n",
       "}\n",
       "\n",
       "#sk-container-id-2 div.sk-toggleable__content.fitted {\n",
       "  /* fitted */\n",
       "  background-color: var(--sklearn-color-fitted-level-0);\n",
       "}\n",
       "\n",
       "#sk-container-id-2 div.sk-toggleable__content pre {\n",
       "  margin: 0.2em;\n",
       "  border-radius: 0.25em;\n",
       "  color: var(--sklearn-color-text);\n",
       "  /* unfitted */\n",
       "  background-color: var(--sklearn-color-unfitted-level-0);\n",
       "}\n",
       "\n",
       "#sk-container-id-2 div.sk-toggleable__content.fitted pre {\n",
       "  /* unfitted */\n",
       "  background-color: var(--sklearn-color-fitted-level-0);\n",
       "}\n",
       "\n",
       "#sk-container-id-2 input.sk-toggleable__control:checked~div.sk-toggleable__content {\n",
       "  /* Expand drop-down */\n",
       "  max-height: 200px;\n",
       "  max-width: 100%;\n",
       "  overflow: auto;\n",
       "}\n",
       "\n",
       "#sk-container-id-2 input.sk-toggleable__control:checked~label.sk-toggleable__label-arrow:before {\n",
       "  content: \"▾\";\n",
       "}\n",
       "\n",
       "/* Pipeline/ColumnTransformer-specific style */\n",
       "\n",
       "#sk-container-id-2 div.sk-label input.sk-toggleable__control:checked~label.sk-toggleable__label {\n",
       "  color: var(--sklearn-color-text);\n",
       "  background-color: var(--sklearn-color-unfitted-level-2);\n",
       "}\n",
       "\n",
       "#sk-container-id-2 div.sk-label.fitted input.sk-toggleable__control:checked~label.sk-toggleable__label {\n",
       "  background-color: var(--sklearn-color-fitted-level-2);\n",
       "}\n",
       "\n",
       "/* Estimator-specific style */\n",
       "\n",
       "/* Colorize estimator box */\n",
       "#sk-container-id-2 div.sk-estimator input.sk-toggleable__control:checked~label.sk-toggleable__label {\n",
       "  /* unfitted */\n",
       "  background-color: var(--sklearn-color-unfitted-level-2);\n",
       "}\n",
       "\n",
       "#sk-container-id-2 div.sk-estimator.fitted input.sk-toggleable__control:checked~label.sk-toggleable__label {\n",
       "  /* fitted */\n",
       "  background-color: var(--sklearn-color-fitted-level-2);\n",
       "}\n",
       "\n",
       "#sk-container-id-2 div.sk-label label.sk-toggleable__label,\n",
       "#sk-container-id-2 div.sk-label label {\n",
       "  /* The background is the default theme color */\n",
       "  color: var(--sklearn-color-text-on-default-background);\n",
       "}\n",
       "\n",
       "/* On hover, darken the color of the background */\n",
       "#sk-container-id-2 div.sk-label:hover label.sk-toggleable__label {\n",
       "  color: var(--sklearn-color-text);\n",
       "  background-color: var(--sklearn-color-unfitted-level-2);\n",
       "}\n",
       "\n",
       "/* Label box, darken color on hover, fitted */\n",
       "#sk-container-id-2 div.sk-label.fitted:hover label.sk-toggleable__label.fitted {\n",
       "  color: var(--sklearn-color-text);\n",
       "  background-color: var(--sklearn-color-fitted-level-2);\n",
       "}\n",
       "\n",
       "/* Estimator label */\n",
       "\n",
       "#sk-container-id-2 div.sk-label label {\n",
       "  font-family: monospace;\n",
       "  font-weight: bold;\n",
       "  display: inline-block;\n",
       "  line-height: 1.2em;\n",
       "}\n",
       "\n",
       "#sk-container-id-2 div.sk-label-container {\n",
       "  text-align: center;\n",
       "}\n",
       "\n",
       "/* Estimator-specific */\n",
       "#sk-container-id-2 div.sk-estimator {\n",
       "  font-family: monospace;\n",
       "  border: 1px dotted var(--sklearn-color-border-box);\n",
       "  border-radius: 0.25em;\n",
       "  box-sizing: border-box;\n",
       "  margin-bottom: 0.5em;\n",
       "  /* unfitted */\n",
       "  background-color: var(--sklearn-color-unfitted-level-0);\n",
       "}\n",
       "\n",
       "#sk-container-id-2 div.sk-estimator.fitted {\n",
       "  /* fitted */\n",
       "  background-color: var(--sklearn-color-fitted-level-0);\n",
       "}\n",
       "\n",
       "/* on hover */\n",
       "#sk-container-id-2 div.sk-estimator:hover {\n",
       "  /* unfitted */\n",
       "  background-color: var(--sklearn-color-unfitted-level-2);\n",
       "}\n",
       "\n",
       "#sk-container-id-2 div.sk-estimator.fitted:hover {\n",
       "  /* fitted */\n",
       "  background-color: var(--sklearn-color-fitted-level-2);\n",
       "}\n",
       "\n",
       "/* Specification for estimator info (e.g. \"i\" and \"?\") */\n",
       "\n",
       "/* Common style for \"i\" and \"?\" */\n",
       "\n",
       ".sk-estimator-doc-link,\n",
       "a:link.sk-estimator-doc-link,\n",
       "a:visited.sk-estimator-doc-link {\n",
       "  float: right;\n",
       "  font-size: smaller;\n",
       "  line-height: 1em;\n",
       "  font-family: monospace;\n",
       "  background-color: var(--sklearn-color-background);\n",
       "  border-radius: 1em;\n",
       "  height: 1em;\n",
       "  width: 1em;\n",
       "  text-decoration: none !important;\n",
       "  margin-left: 1ex;\n",
       "  /* unfitted */\n",
       "  border: var(--sklearn-color-unfitted-level-1) 1pt solid;\n",
       "  color: var(--sklearn-color-unfitted-level-1);\n",
       "}\n",
       "\n",
       ".sk-estimator-doc-link.fitted,\n",
       "a:link.sk-estimator-doc-link.fitted,\n",
       "a:visited.sk-estimator-doc-link.fitted {\n",
       "  /* fitted */\n",
       "  border: var(--sklearn-color-fitted-level-1) 1pt solid;\n",
       "  color: var(--sklearn-color-fitted-level-1);\n",
       "}\n",
       "\n",
       "/* On hover */\n",
       "div.sk-estimator:hover .sk-estimator-doc-link:hover,\n",
       ".sk-estimator-doc-link:hover,\n",
       "div.sk-label-container:hover .sk-estimator-doc-link:hover,\n",
       ".sk-estimator-doc-link:hover {\n",
       "  /* unfitted */\n",
       "  background-color: var(--sklearn-color-unfitted-level-3);\n",
       "  color: var(--sklearn-color-background);\n",
       "  text-decoration: none;\n",
       "}\n",
       "\n",
       "div.sk-estimator.fitted:hover .sk-estimator-doc-link.fitted:hover,\n",
       ".sk-estimator-doc-link.fitted:hover,\n",
       "div.sk-label-container:hover .sk-estimator-doc-link.fitted:hover,\n",
       ".sk-estimator-doc-link.fitted:hover {\n",
       "  /* fitted */\n",
       "  background-color: var(--sklearn-color-fitted-level-3);\n",
       "  color: var(--sklearn-color-background);\n",
       "  text-decoration: none;\n",
       "}\n",
       "\n",
       "/* Span, style for the box shown on hovering the info icon */\n",
       ".sk-estimator-doc-link span {\n",
       "  display: none;\n",
       "  z-index: 9999;\n",
       "  position: relative;\n",
       "  font-weight: normal;\n",
       "  right: .2ex;\n",
       "  padding: .5ex;\n",
       "  margin: .5ex;\n",
       "  width: min-content;\n",
       "  min-width: 20ex;\n",
       "  max-width: 50ex;\n",
       "  color: var(--sklearn-color-text);\n",
       "  box-shadow: 2pt 2pt 4pt #999;\n",
       "  /* unfitted */\n",
       "  background: var(--sklearn-color-unfitted-level-0);\n",
       "  border: .5pt solid var(--sklearn-color-unfitted-level-3);\n",
       "}\n",
       "\n",
       ".sk-estimator-doc-link.fitted span {\n",
       "  /* fitted */\n",
       "  background: var(--sklearn-color-fitted-level-0);\n",
       "  border: var(--sklearn-color-fitted-level-3);\n",
       "}\n",
       "\n",
       ".sk-estimator-doc-link:hover span {\n",
       "  display: block;\n",
       "}\n",
       "\n",
       "/* \"?\"-specific style due to the `<a>` HTML tag */\n",
       "\n",
       "#sk-container-id-2 a.estimator_doc_link {\n",
       "  float: right;\n",
       "  font-size: 1rem;\n",
       "  line-height: 1em;\n",
       "  font-family: monospace;\n",
       "  background-color: var(--sklearn-color-background);\n",
       "  border-radius: 1rem;\n",
       "  height: 1rem;\n",
       "  width: 1rem;\n",
       "  text-decoration: none;\n",
       "  /* unfitted */\n",
       "  color: var(--sklearn-color-unfitted-level-1);\n",
       "  border: var(--sklearn-color-unfitted-level-1) 1pt solid;\n",
       "}\n",
       "\n",
       "#sk-container-id-2 a.estimator_doc_link.fitted {\n",
       "  /* fitted */\n",
       "  border: var(--sklearn-color-fitted-level-1) 1pt solid;\n",
       "  color: var(--sklearn-color-fitted-level-1);\n",
       "}\n",
       "\n",
       "/* On hover */\n",
       "#sk-container-id-2 a.estimator_doc_link:hover {\n",
       "  /* unfitted */\n",
       "  background-color: var(--sklearn-color-unfitted-level-3);\n",
       "  color: var(--sklearn-color-background);\n",
       "  text-decoration: none;\n",
       "}\n",
       "\n",
       "#sk-container-id-2 a.estimator_doc_link.fitted:hover {\n",
       "  /* fitted */\n",
       "  background-color: var(--sklearn-color-fitted-level-3);\n",
       "}\n",
       "</style><div id=\"sk-container-id-2\" class=\"sk-top-container\"><div class=\"sk-text-repr-fallback\"><pre>GridSearchCV(cv=10, estimator=RandomForestClassifier(), n_jobs=-1,\n",
       "             param_grid={&#x27;max_depth&#x27;: [3, 6, 9],\n",
       "                         &#x27;max_features&#x27;: [&#x27;sqrt&#x27;, &#x27;log2&#x27;, None],\n",
       "                         &#x27;max_leaf_nodes&#x27;: [3, 6, 9],\n",
       "                         &#x27;n_estimators&#x27;: [25, 50, 100, 150]},\n",
       "             verbose=2)</pre><b>In a Jupyter environment, please rerun this cell to show the HTML representation or trust the notebook. <br />On GitHub, the HTML representation is unable to render, please try loading this page with nbviewer.org.</b></div><div class=\"sk-container\" hidden><div class=\"sk-item sk-dashed-wrapped\"><div class=\"sk-label-container\"><div class=\"sk-label fitted sk-toggleable\"><input class=\"sk-toggleable__control sk-hidden--visually\" id=\"sk-estimator-id-4\" type=\"checkbox\" ><label for=\"sk-estimator-id-4\" class=\"sk-toggleable__label fitted sk-toggleable__label-arrow fitted\">&nbsp;&nbsp;GridSearchCV<a class=\"sk-estimator-doc-link fitted\" rel=\"noreferrer\" target=\"_blank\" href=\"https://scikit-learn.org/1.4/modules/generated/sklearn.model_selection.GridSearchCV.html\">?<span>Documentation for GridSearchCV</span></a><span class=\"sk-estimator-doc-link fitted\">i<span>Fitted</span></span></label><div class=\"sk-toggleable__content fitted\"><pre>GridSearchCV(cv=10, estimator=RandomForestClassifier(), n_jobs=-1,\n",
       "             param_grid={&#x27;max_depth&#x27;: [3, 6, 9],\n",
       "                         &#x27;max_features&#x27;: [&#x27;sqrt&#x27;, &#x27;log2&#x27;, None],\n",
       "                         &#x27;max_leaf_nodes&#x27;: [3, 6, 9],\n",
       "                         &#x27;n_estimators&#x27;: [25, 50, 100, 150]},\n",
       "             verbose=2)</pre></div> </div></div><div class=\"sk-parallel\"><div class=\"sk-parallel-item\"><div class=\"sk-item\"><div class=\"sk-label-container\"><div class=\"sk-label fitted sk-toggleable\"><input class=\"sk-toggleable__control sk-hidden--visually\" id=\"sk-estimator-id-5\" type=\"checkbox\" ><label for=\"sk-estimator-id-5\" class=\"sk-toggleable__label fitted sk-toggleable__label-arrow fitted\">estimator: RandomForestClassifier</label><div class=\"sk-toggleable__content fitted\"><pre>RandomForestClassifier()</pre></div> </div></div><div class=\"sk-serial\"><div class=\"sk-item\"><div class=\"sk-estimator fitted sk-toggleable\"><input class=\"sk-toggleable__control sk-hidden--visually\" id=\"sk-estimator-id-6\" type=\"checkbox\" ><label for=\"sk-estimator-id-6\" class=\"sk-toggleable__label fitted sk-toggleable__label-arrow fitted\">&nbsp;RandomForestClassifier<a class=\"sk-estimator-doc-link fitted\" rel=\"noreferrer\" target=\"_blank\" href=\"https://scikit-learn.org/1.4/modules/generated/sklearn.ensemble.RandomForestClassifier.html\">?<span>Documentation for RandomForestClassifier</span></a></label><div class=\"sk-toggleable__content fitted\"><pre>RandomForestClassifier()</pre></div> </div></div></div></div></div></div></div></div></div>"
      ],
      "text/plain": [
       "GridSearchCV(cv=10, estimator=RandomForestClassifier(), n_jobs=-1,\n",
       "             param_grid={'max_depth': [3, 6, 9],\n",
       "                         'max_features': ['sqrt', 'log2', None],\n",
       "                         'max_leaf_nodes': [3, 6, 9],\n",
       "                         'n_estimators': [25, 50, 100, 150]},\n",
       "             verbose=2)"
      ]
     },
     "execution_count": 88,
     "metadata": {},
     "output_type": "execute_result"
    }
   ],
   "source": [
    "rf_grid.fit(x_train,y_train)"
   ]
  },
  {
   "cell_type": "code",
   "execution_count": 89,
   "metadata": {},
   "outputs": [
    {
     "name": "stdout",
     "output_type": "stream",
     "text": [
      "Best Parameters: {'max_depth': 3, 'max_features': 'sqrt', 'max_leaf_nodes': 6, 'n_estimators': 50}\n",
      "Best Score: 0.6666666666666667\n"
     ]
    }
   ],
   "source": [
    "print(\"Best Parameters:\",rf_grid.best_params_)\n",
    "print(\"Best Score:\",rf_grid.best_score_)"
   ]
  },
  {
   "cell_type": "code",
   "execution_count": 57,
   "metadata": {},
   "outputs": [],
   "source": [
    "import pickle"
   ]
  },
  {
   "cell_type": "code",
   "execution_count": 58,
   "metadata": {},
   "outputs": [],
   "source": [
    "filename='happydata.pkl'\n",
    "pickle.dump(rf,open(filename,'wb'))"
   ]
  },
  {
   "cell_type": "code",
   "execution_count": 59,
   "metadata": {},
   "outputs": [],
   "source": [
    "pickle.dump(sc,open('happydata_sc.pkl','wb'))"
   ]
  }
 ],
 "metadata": {
  "kernelspec": {
   "display_name": "Python 3",
   "language": "python",
   "name": "python3"
  },
  "language_info": {
   "codemirror_mode": {
    "name": "ipython",
    "version": 3
   },
   "file_extension": ".py",
   "mimetype": "text/x-python",
   "name": "python",
   "nbconvert_exporter": "python",
   "pygments_lexer": "ipython3",
   "version": "3.12.0"
  }
 },
 "nbformat": 4,
 "nbformat_minor": 2
}
